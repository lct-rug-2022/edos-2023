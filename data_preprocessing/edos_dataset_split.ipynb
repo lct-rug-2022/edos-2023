{
 "cells": [
  {
   "cell_type": "markdown",
   "metadata": {},
   "source": [
    "IMPORTANT: The ordering of samples in this version of the data, which is [provided by the organizers](https://github.com/rewire-online/edos) after the competition, doesn't match the one used in competition."
   ]
  },
  {
   "cell_type": "code",
   "execution_count": 1,
   "metadata": {
    "id": "B_46jwF-bPNr"
   },
   "outputs": [],
   "source": [
    "from pathlib import Path\n",
    "\n",
    "import pandas as pd\n",
    "from sklearn.model_selection import train_test_split"
   ]
  },
  {
   "cell_type": "code",
   "execution_count": 2,
   "metadata": {},
   "outputs": [],
   "source": [
    "DATASET_FOLDER = Path('../edos_data')\n",
    "Path(DATASET_FOLDER / 'processed').mkdir(exist_ok=True)"
   ]
  },
  {
   "cell_type": "code",
   "execution_count": null,
   "metadata": {
    "colab": {
     "base_uri": "https://localhost:8080/",
     "height": 250
    },
    "id": "CxJAInXUbfFx",
    "outputId": "f0f568a1-13ab-4e79-c854-6ac3360503b0",
    "scrolled": true
   },
   "outputs": [],
   "source": [
    "df = pd.read_csv(DATASET_FOLDER / 'raw' / 'edos_labelled_aggregated.csv')\n",
    "df.head()"
   ]
  },
  {
   "cell_type": "code",
   "execution_count": 4,
   "metadata": {},
   "outputs": [],
   "source": [
    "for part in ['dev', 'test']:\n",
    "    part_df = df.loc[df.split == part]\n",
    "    part_df.to_csv(DATASET_FOLDER / 'processed' / f'{part}_task_a_entries.csv', index=False)\n",
    "    part_df.loc[part_df.label_sexist == 'sexist'].to_csv(\n",
    "        DATASET_FOLDER / 'processed' / f'{part}_task_b_entries.csv', index=False\n",
    "    )\n",
    "    part_df.loc[part_df.label_sexist == 'sexist'].to_csv(\n",
    "        DATASET_FOLDER / 'processed' / f'{part}_task_c_entries.csv', index=False\n",
    "    )"
   ]
  },
  {
   "cell_type": "code",
   "execution_count": 5,
   "metadata": {},
   "outputs": [],
   "source": [
    "df = df.loc[df.split == 'train']"
   ]
  },
  {
   "cell_type": "code",
   "execution_count": 6,
   "metadata": {
    "colab": {
     "base_uri": "https://localhost:8080/"
    },
    "id": "vpy6T4rQcRzU",
    "outputId": "fee38fb3-58eb-4aac-d611-e2d94b6961b1"
   },
   "outputs": [
    {
     "data": {
      "text/plain": [
       "{'none': 10602,\n",
       " '2. derogation': 1590,\n",
       " '3. animosity': 1165,\n",
       " '4. prejudiced discussions': 333,\n",
       " '1. threats, plans to harm and incitement': 310}"
      ]
     },
     "execution_count": 6,
     "metadata": {},
     "output_type": "execute_result"
    }
   ],
   "source": [
    "df['label_category'].value_counts().to_dict()"
   ]
  },
  {
   "cell_type": "code",
   "execution_count": 7,
   "metadata": {},
   "outputs": [],
   "source": [
    "df = df.rename(columns={'rewire_id': 'orig_id'})\n",
    "df.insert(0, 'id', df.index)"
   ]
  },
  {
   "cell_type": "code",
   "execution_count": 8,
   "metadata": {
    "colab": {
     "base_uri": "https://localhost:8080/"
    },
    "id": "RHQDTEzRbk_1",
    "outputId": "c51c2155-17d6-46be-832d-aa659cc134c5"
   },
   "outputs": [
    {
     "data": {
      "text/plain": [
       "(11200, 2800)"
      ]
     },
     "execution_count": 8,
     "metadata": {},
     "output_type": "execute_result"
    }
   ],
   "source": [
    "df_train, df_val = train_test_split(df, test_size=0.2, shuffle=True, random_state=42)\n",
    "len(df_train), len(df_val)"
   ]
  },
  {
   "cell_type": "code",
   "execution_count": 9,
   "metadata": {
    "id": "qLsgYjjOfHit"
   },
   "outputs": [],
   "source": [
    "df_train.to_csv(DATASET_FOLDER / 'processed' / 'edos_2023_train.csv', index=False)\n",
    "df_val.to_csv(DATASET_FOLDER / 'processed' / 'edos_2023_val.csv', index=False)"
   ]
  },
  {
   "cell_type": "code",
   "execution_count": null,
   "metadata": {},
   "outputs": [],
   "source": [
    "df_raw_reddit = pd.read_csv(DATASET_FOLDER / 'raw' / 'reddit_1M_unlabelled.csv')\n",
    "df_raw_gab = pd.read_csv(DATASET_FOLDER / 'raw' / 'gab_1M_unlabelled.csv')\n",
    "df_raw_reddit.insert(0, 'id', df_raw_reddit.index)\n",
    "df_raw_gab.insert(0, 'id', df_raw_gab.index)\n",
    "df_raw_reddit.head()"
   ]
  },
  {
   "cell_type": "code",
   "execution_count": 12,
   "metadata": {},
   "outputs": [
    {
     "data": {
      "text/plain": [
       "2800"
      ]
     },
     "execution_count": 12,
     "metadata": {},
     "output_type": "execute_result"
    }
   ],
   "source": [
    "edos_val_texts = set(df_val['text'])\n",
    "len(edos_val_texts)"
   ]
  },
  {
   "cell_type": "code",
   "execution_count": 13,
   "metadata": {},
   "outputs": [
    {
     "data": {
      "text/plain": [
       "(998626, 998576)"
      ]
     },
     "execution_count": 13,
     "metadata": {},
     "output_type": "execute_result"
    }
   ],
   "source": [
    "# remove edos val set from unlabeled texts\n",
    "df_raw_reddit = df_raw_reddit[~df_raw_reddit['text'].isin(edos_val_texts)]\n",
    "df_raw_gab = df_raw_gab[~df_raw_gab['text'].isin(edos_val_texts)]\n",
    "len(df_raw_reddit), len(df_raw_gab)"
   ]
  },
  {
   "cell_type": "code",
   "execution_count": 14,
   "metadata": {},
   "outputs": [],
   "source": [
    "df_raw_reddit.to_csv(DATASET_FOLDER / 'processed' / 'gab_1M_unlabelled.csv', index=False)\n",
    "df_raw_gab.to_csv(DATASET_FOLDER / 'processed' / 'reddit_1M_unlabelled.csv', index=False)"
   ]
  },
  {
   "cell_type": "code",
   "execution_count": 15,
   "metadata": {},
   "outputs": [
    {
     "data": {
      "text/plain": [
       "(798900, 199726)"
      ]
     },
     "execution_count": 15,
     "metadata": {},
     "output_type": "execute_result"
    }
   ],
   "source": [
    "df_raw_reddit_train, df_raw_reddit_val = train_test_split(df_raw_reddit, test_size=0.2, shuffle=True, random_state=42)\n",
    "len(df_raw_reddit_train), len(df_raw_reddit_val)"
   ]
  },
  {
   "cell_type": "code",
   "execution_count": 16,
   "metadata": {},
   "outputs": [
    {
     "data": {
      "text/plain": [
       "(798860, 199716)"
      ]
     },
     "execution_count": 16,
     "metadata": {},
     "output_type": "execute_result"
    }
   ],
   "source": [
    "df_raw_gab_train, df_raw_gab_val = train_test_split(df_raw_gab, test_size=0.2, shuffle=True, random_state=42)\n",
    "len(df_raw_gab_train), len(df_raw_gab_val)"
   ]
  },
  {
   "cell_type": "code",
   "execution_count": 40,
   "metadata": {},
   "outputs": [],
   "source": [
    "df_raw_reddit_train.to_csv(DATASET_FOLDER / 'processed' / '1M_unlabelled_reddit_train.csv', index=False)\n",
    "df_raw_reddit_val.to_csv(DATASET_FOLDER / 'processed' / '1M_unlabelled_reddit_val.csv', index=False)\n",
    "\n",
    "df_raw_gab_train.to_csv(DATASET_FOLDER / 'processed' / '1M_unlabelled_gab_train.csv', index=False)\n",
    "df_raw_gab_val.to_csv(DATASET_FOLDER / 'processed' / '1M_unlabelled_gab_val.csv', index=False)"
   ]
  },
  {
   "cell_type": "markdown",
   "metadata": {},
   "source": [
    "---"
   ]
  },
  {
   "cell_type": "code",
   "execution_count": 17,
   "metadata": {
    "colab": {
     "base_uri": "https://localhost:8080/"
    },
    "id": "rzGh_vvNc38p",
    "outputId": "2d77d501-964e-4e5d-851a-9942965ad7f1"
   },
   "outputs": [
    {
     "name": "stdout",
     "output_type": "stream",
     "text": [
      "              all  train   val\n",
      "not sexist  10602   8477  2125\n",
      "sexist       3398   2723   675\n",
      "                 all     train       val\n",
      "not sexist  0.757286  0.756875  0.758929\n",
      "sexist      0.242714  0.243125  0.241071\n",
      "                                            all  train   val\n",
      "none                                      10602   8477  2125\n",
      "2. derogation                              1590   1287   303\n",
      "3. animosity                               1165    923   242\n",
      "4. prejudiced discussions                   333    263    70\n",
      "1. threats, plans to harm and incitement    310    250    60\n",
      "                                               all     train       val\n",
      "none                                      0.757286  0.756875  0.758929\n",
      "2. derogation                             0.113571  0.114911  0.108214\n",
      "3. animosity                              0.083214  0.082411  0.086429\n",
      "4. prejudiced discussions                 0.023786  0.023482  0.025000\n",
      "1. threats, plans to harm and incitement  0.022143  0.022321  0.021429\n",
      "                                                      all  train   val\n",
      "none                                                10602   8477  2125\n",
      "2.1 descriptive attacks                               717    581   136\n",
      "2.2 aggressive and emotive attacks                    673    542   131\n",
      "3.1 casual use of gendered slurs, profanities, ...    637    509   128\n",
      "3.2 immutable gender differences and gender ste...    417    323    94\n",
      "4.2 supporting systemic discrimination against ...    258    208    50\n",
      "1.2 incitement and encouragement of harm              254    208    46\n",
      "2.3 dehumanising attacks & overt sexual objecti...    200    164    36\n",
      "4.1 supporting mistreatment of individual women        75     55    20\n",
      "3.3 backhanded gendered compliments                    64     51    13\n",
      "1.1 threats of harm                                    56     42    14\n",
      "3.4 condescending explanations or unwelcome advice     47     40     7\n",
      "                                                         all     train  \\\n",
      "none                                                0.757286  0.756875   \n",
      "2.1 descriptive attacks                             0.051214  0.051875   \n",
      "2.2 aggressive and emotive attacks                  0.048071  0.048393   \n",
      "3.1 casual use of gendered slurs, profanities, ...  0.045500  0.045446   \n",
      "3.2 immutable gender differences and gender ste...  0.029786  0.028839   \n",
      "4.2 supporting systemic discrimination against ...  0.018429  0.018571   \n",
      "1.2 incitement and encouragement of harm            0.018143  0.018571   \n",
      "2.3 dehumanising attacks & overt sexual objecti...  0.014286  0.014643   \n",
      "4.1 supporting mistreatment of individual women     0.005357  0.004911   \n",
      "3.3 backhanded gendered compliments                 0.004571  0.004554   \n",
      "1.1 threats of harm                                 0.004000  0.003750   \n",
      "3.4 condescending explanations or unwelcome advice  0.003357  0.003571   \n",
      "\n",
      "                                                         val  \n",
      "none                                                0.758929  \n",
      "2.1 descriptive attacks                             0.048571  \n",
      "2.2 aggressive and emotive attacks                  0.046786  \n",
      "3.1 casual use of gendered slurs, profanities, ...  0.045714  \n",
      "3.2 immutable gender differences and gender ste...  0.033571  \n",
      "4.2 supporting systemic discrimination against ...  0.017857  \n",
      "1.2 incitement and encouragement of harm            0.016429  \n",
      "2.3 dehumanising attacks & overt sexual objecti...  0.012857  \n",
      "4.1 supporting mistreatment of individual women     0.007143  \n",
      "3.3 backhanded gendered compliments                 0.004643  \n",
      "1.1 threats of harm                                 0.005000  \n",
      "3.4 condescending explanations or unwelcome advice  0.002500  \n"
     ]
    }
   ],
   "source": [
    "for col in ['label_sexist', 'label_category', 'label_vector']:\n",
    "    t = pd.DataFrame()\n",
    "\n",
    "    for name, _df in [('all', df), ('train', df_train), ('val', df_val)]:\n",
    "        t[name] = _df[col].value_counts()\n",
    "\n",
    "    print(t)\n",
    "    print(t / t.sum(axis=0))"
   ]
  },
  {
   "cell_type": "code",
   "execution_count": null,
   "metadata": {
    "id": "s2yA61lBeqik"
   },
   "outputs": [],
   "source": []
  }
 ],
 "metadata": {
  "colab": {
   "provenance": []
  },
  "kernelspec": {
   "display_name": "Python 3",
   "language": "python",
   "name": "python3"
  },
  "language_info": {
   "codemirror_mode": {
    "name": "ipython",
    "version": 3
   },
   "file_extension": ".py",
   "mimetype": "text/x-python",
   "name": "python",
   "nbconvert_exporter": "python",
   "pygments_lexer": "ipython3",
   "version": "3.7.0"
  }
 },
 "nbformat": 4,
 "nbformat_minor": 1
}
