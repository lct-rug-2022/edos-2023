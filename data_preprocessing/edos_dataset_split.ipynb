{
 "nbformat": 4,
 "nbformat_minor": 0,
 "metadata": {
  "colab": {
   "provenance": []
  },
  "kernelspec": {
   "name": "python3",
   "display_name": "Python 3"
  },
  "language_info": {
   "name": "python"
  }
 },
 "cells": [
  {
   "cell_type": "code",
   "execution_count": 1,
   "metadata": {
    "id": "B_46jwF-bPNr"
   },
   "outputs": [],
   "source": [
    "from pathlib import Path\n",
    "\n",
    "import pandas as pd\n",
    "from sklearn.model_selection import train_test_split"
   ]
  },
  {
   "cell_type": "code",
   "execution_count": 2,
   "outputs": [
    {
     "data": {
      "text/plain": "PosixPath('/Users/kblack/Projects/rug/shared-task/edos_data')"
     },
     "execution_count": 2,
     "metadata": {},
     "output_type": "execute_result"
    }
   ],
   "source": [
    "DATASET_FOLDER = Path('/Users/kblack/Projects/rug/shared-task/') / 'edos_data'\n",
    "DATASET_FOLDER.absolute()"
   ],
   "metadata": {
    "collapsed": false
   }
  },
  {
   "cell_type": "code",
   "source": [
    "df = pd.read_csv(DATASET_FOLDER / 'raw' / 'train_all_tasks.csv')\n",
    "df.head()"
   ],
   "metadata": {
    "colab": {
     "base_uri": "https://localhost:8080/",
     "height": 250
    },
    "id": "CxJAInXUbfFx",
    "outputId": "f0f568a1-13ab-4e79-c854-6ac3360503b0"
   },
   "execution_count": 15,
   "outputs": [
    {
     "data": {
      "text/plain": "                  rewire_id  \\\n0   sexism2022_english-7358   \n1   sexism2022_english-2367   \n2   sexism2022_english-3073   \n3  sexism2022_english-14895   \n4   sexism2022_english-4118   \n\n                                                text label_sexist  \\\n0              Damn, this writing was pretty chaotic   not sexist   \n1  Yeah, and apparently a bunch of misogynistic v...   not sexist   \n2       How the FUCK is this woman still an MP!!!???   not sexist   \n3  Understand. Know you're right. At same time I ...   not sexist   \n4     Surprized they didn't stop and rape some women   not sexist   \n\n  label_category label_vector  \n0           none         none  \n1           none         none  \n2           none         none  \n3           none         none  \n4           none         none  ",
      "text/html": "<div>\n<style scoped>\n    .dataframe tbody tr th:only-of-type {\n        vertical-align: middle;\n    }\n\n    .dataframe tbody tr th {\n        vertical-align: top;\n    }\n\n    .dataframe thead th {\n        text-align: right;\n    }\n</style>\n<table border=\"1\" class=\"dataframe\">\n  <thead>\n    <tr style=\"text-align: right;\">\n      <th></th>\n      <th>rewire_id</th>\n      <th>text</th>\n      <th>label_sexist</th>\n      <th>label_category</th>\n      <th>label_vector</th>\n    </tr>\n  </thead>\n  <tbody>\n    <tr>\n      <th>0</th>\n      <td>sexism2022_english-7358</td>\n      <td>Damn, this writing was pretty chaotic</td>\n      <td>not sexist</td>\n      <td>none</td>\n      <td>none</td>\n    </tr>\n    <tr>\n      <th>1</th>\n      <td>sexism2022_english-2367</td>\n      <td>Yeah, and apparently a bunch of misogynistic v...</td>\n      <td>not sexist</td>\n      <td>none</td>\n      <td>none</td>\n    </tr>\n    <tr>\n      <th>2</th>\n      <td>sexism2022_english-3073</td>\n      <td>How the FUCK is this woman still an MP!!!???</td>\n      <td>not sexist</td>\n      <td>none</td>\n      <td>none</td>\n    </tr>\n    <tr>\n      <th>3</th>\n      <td>sexism2022_english-14895</td>\n      <td>Understand. Know you're right. At same time I ...</td>\n      <td>not sexist</td>\n      <td>none</td>\n      <td>none</td>\n    </tr>\n    <tr>\n      <th>4</th>\n      <td>sexism2022_english-4118</td>\n      <td>Surprized they didn't stop and rape some women</td>\n      <td>not sexist</td>\n      <td>none</td>\n      <td>none</td>\n    </tr>\n  </tbody>\n</table>\n</div>"
     },
     "execution_count": 15,
     "metadata": {},
     "output_type": "execute_result"
    }
   ]
  },
  {
   "cell_type": "code",
   "source": [
    "df['label_category'].value_counts().to_dict()"
   ],
   "metadata": {
    "colab": {
     "base_uri": "https://localhost:8080/"
    },
    "id": "vpy6T4rQcRzU",
    "outputId": "fee38fb3-58eb-4aac-d611-e2d94b6961b1"
   },
   "execution_count": 16,
   "outputs": [
    {
     "data": {
      "text/plain": "{'none': 10602,\n '2. derogation': 1590,\n '3. animosity': 1165,\n '4. prejudiced discussions': 333,\n '1. threats, plans to harm and incitement': 310}"
     },
     "execution_count": 16,
     "metadata": {},
     "output_type": "execute_result"
    }
   ]
  },
  {
   "cell_type": "code",
   "execution_count": 17,
   "outputs": [],
   "source": [
    "df = df.rename(columns={'rewire_id': 'orig_id'})\n",
    "df.insert(0, 'id', df.index)"
   ],
   "metadata": {
    "collapsed": false
   }
  },
  {
   "cell_type": "code",
   "source": [
    "df_train, df_val = train_test_split(df, test_size=0.2, shuffle=True, random_state=42)\n",
    "len(df_train), len(df_val)"
   ],
   "metadata": {
    "colab": {
     "base_uri": "https://localhost:8080/"
    },
    "id": "RHQDTEzRbk_1",
    "outputId": "c51c2155-17d6-46be-832d-aa659cc134c5"
   },
   "execution_count": 18,
   "outputs": [
    {
     "data": {
      "text/plain": "(11200, 2800)"
     },
     "execution_count": 18,
     "metadata": {},
     "output_type": "execute_result"
    }
   ]
  },
  {
   "cell_type": "code",
   "source": [
    "df_train.to_csv(DATASET_FOLDER / 'processed' / 'edos_2023_train.csv', index=False)\n",
    "df_val.to_csv(DATASET_FOLDER / 'processed' / 'edos_2023_val.csv', index=False)"
   ],
   "metadata": {
    "id": "qLsgYjjOfHit"
   },
   "execution_count": 19,
   "outputs": []
  },
  {
   "cell_type": "code",
   "execution_count": 21,
   "outputs": [
    {
     "data": {
      "text/plain": "   id                                               text\n0   0  Wow. Just... Just wow. This is a slippery slop...\n1   1        only 1 in 4. I'm excluded from at least 50%\n2   2   Comment so I can find this article in the future\n3   3  He needs to discuss his personal appearance. H...\n4   4  LOL, it's never about voting for who you want ...",
      "text/html": "<div>\n<style scoped>\n    .dataframe tbody tr th:only-of-type {\n        vertical-align: middle;\n    }\n\n    .dataframe tbody tr th {\n        vertical-align: top;\n    }\n\n    .dataframe thead th {\n        text-align: right;\n    }\n</style>\n<table border=\"1\" class=\"dataframe\">\n  <thead>\n    <tr style=\"text-align: right;\">\n      <th></th>\n      <th>id</th>\n      <th>text</th>\n    </tr>\n  </thead>\n  <tbody>\n    <tr>\n      <th>0</th>\n      <td>0</td>\n      <td>Wow. Just... Just wow. This is a slippery slop...</td>\n    </tr>\n    <tr>\n      <th>1</th>\n      <td>1</td>\n      <td>only 1 in 4. I'm excluded from at least 50%</td>\n    </tr>\n    <tr>\n      <th>2</th>\n      <td>2</td>\n      <td>Comment so I can find this article in the future</td>\n    </tr>\n    <tr>\n      <th>3</th>\n      <td>3</td>\n      <td>He needs to discuss his personal appearance. H...</td>\n    </tr>\n    <tr>\n      <th>4</th>\n      <td>4</td>\n      <td>LOL, it's never about voting for who you want ...</td>\n    </tr>\n  </tbody>\n</table>\n</div>"
     },
     "execution_count": 21,
     "metadata": {},
     "output_type": "execute_result"
    }
   ],
   "source": [
    "df_raw_reddit = pd.read_csv(DATASET_FOLDER / 'raw' / 'reddit_1M_unlabelled.csv')\n",
    "df_raw_gab = pd.read_csv(DATASET_FOLDER / 'raw' / 'gab_1M_unlabelled.csv')\n",
    "df_raw_reddit.insert(0, 'id', df_raw_reddit.index)\n",
    "df_raw_gab.insert(0, 'id', df_raw_gab.index)\n",
    "df_raw_reddit.head()"
   ],
   "metadata": {
    "collapsed": false
   }
  },
  {
   "cell_type": "code",
   "execution_count": 26,
   "outputs": [
    {
     "data": {
      "text/plain": "2800"
     },
     "execution_count": 26,
     "metadata": {},
     "output_type": "execute_result"
    }
   ],
   "source": [
    "edos_val_texts = set(df_val['text'])\n",
    "len(edos_val_texts)"
   ],
   "metadata": {
    "collapsed": false
   }
  },
  {
   "cell_type": "code",
   "execution_count": 35,
   "outputs": [
    {
     "data": {
      "text/plain": "(998603, 998596)"
     },
     "execution_count": 35,
     "metadata": {},
     "output_type": "execute_result"
    }
   ],
   "source": [
    "# remove edos val set from unlabeled texts\n",
    "df_raw_reddit = df_raw_reddit[~df_raw_reddit['text'].isin(edos_val_texts)]\n",
    "df_raw_gab = df_raw_gab[~df_raw_gab['text'].isin(edos_val_texts)]\n",
    "len(df_raw_reddit), len(df_raw_gab)"
   ],
   "metadata": {
    "collapsed": false
   }
  },
  {
   "cell_type": "code",
   "execution_count": 39,
   "outputs": [],
   "source": [
    "df_raw_reddit.to_csv(DATASET_FOLDER / 'processed' / 'gab_1M_unlabelled.csv', index=False)\n",
    "df_raw_gab.to_csv(DATASET_FOLDER / 'processed' / 'reddit_1M_unlabelled.csv', index=False)"
   ],
   "metadata": {
    "collapsed": false
   }
  },
  {
   "cell_type": "code",
   "execution_count": 36,
   "outputs": [
    {
     "data": {
      "text/plain": "(798882, 199721)"
     },
     "execution_count": 36,
     "metadata": {},
     "output_type": "execute_result"
    }
   ],
   "source": [
    "df_raw_reddit_train, df_raw_reddit_val = train_test_split(df_raw_reddit, test_size=0.2, shuffle=True, random_state=42)\n",
    "len(df_raw_reddit_train), len(df_raw_reddit_val)"
   ],
   "metadata": {
    "collapsed": false
   }
  },
  {
   "cell_type": "code",
   "execution_count": 37,
   "outputs": [
    {
     "data": {
      "text/plain": "(798876, 199720)"
     },
     "execution_count": 37,
     "metadata": {},
     "output_type": "execute_result"
    }
   ],
   "source": [
    "df_raw_gab_train, df_raw_gab_val = train_test_split(df_raw_gab, test_size=0.2, shuffle=True, random_state=42)\n",
    "len(df_raw_gab_train), len(df_raw_gab_val)"
   ],
   "metadata": {
    "collapsed": false
   }
  },
  {
   "cell_type": "code",
   "execution_count": 40,
   "outputs": [],
   "source": [
    "df_raw_reddit_train.to_csv(DATASET_FOLDER / 'processed' / '1M_unlabelled_reddit_train.csv', index=False)\n",
    "df_raw_reddit_val.to_csv(DATASET_FOLDER / 'processed' / '1M_unlabelled_reddit_val.csv', index=False)\n",
    "\n",
    "df_raw_gab_train.to_csv(DATASET_FOLDER / 'processed' / '1M_unlabelled_gab_train.csv', index=False)\n",
    "df_raw_gab_val.to_csv(DATASET_FOLDER / 'processed' / '1M_unlabelled_gab_val.csv', index=False)"
   ],
   "metadata": {
    "collapsed": false
   }
  },
  {
   "cell_type": "markdown",
   "source": [
    "---"
   ],
   "metadata": {
    "collapsed": false
   }
  },
  {
   "cell_type": "code",
   "source": [
    "for col in ['label_sexist', 'label_category', 'label_vector']:\n",
    "    t = pd.DataFrame()\n",
    "\n",
    "    for name, _df in [('all', df), ('train', df_train), ('val', df_val)]:\n",
    "        t[name] = _df[col].value_counts()\n",
    "\n",
    "    print(t)\n",
    "    print(t / t.sum(axis=0))"
   ],
   "metadata": {
    "colab": {
     "base_uri": "https://localhost:8080/"
    },
    "id": "rzGh_vvNc38p",
    "outputId": "2d77d501-964e-4e5d-851a-9942965ad7f1"
   },
   "execution_count": 34,
   "outputs": [
    {
     "output_type": "stream",
     "name": "stdout",
     "text": [
      "              all  train   val\n",
      "not sexist  10602   8506  2096\n",
      "sexist       3398   2694   704\n",
      "                 all     train       val\n",
      "not sexist  0.757286  0.759464  0.748571\n",
      "sexist      0.242714  0.240536  0.251429\n",
      "                                            all  train   val\n",
      "none                                      10602   8506  2096\n",
      "2. derogation                              1590   1288   302\n",
      "3. animosity                               1165    896   269\n",
      "4. prejudiced discussions                   333    260    73\n",
      "1. threats, plans to harm and incitement    310    250    60\n",
      "                                               all     train       val\n",
      "none                                      0.757286  0.759464  0.748571\n",
      "2. derogation                             0.113571  0.115000  0.107857\n",
      "3. animosity                              0.083214  0.080000  0.096071\n",
      "4. prejudiced discussions                 0.023786  0.023214  0.026071\n",
      "1. threats, plans to harm and incitement  0.022143  0.022321  0.021429\n",
      "                                                      all  train   val\n",
      "none                                                10602   8506  2096\n",
      "2.1 descriptive attacks                               717    577   140\n",
      "2.2 aggressive and emotive attacks                    673    552   121\n",
      "3.1 casual use of gendered slurs, profanities, ...    637    495   142\n",
      "3.2 immutable gender differences and gender ste...    417    321    96\n",
      "4.2 supporting systemic discrimination against ...    258    205    53\n",
      "1.2 incitement and encouragement of harm              254    206    48\n",
      "2.3 dehumanising attacks & overt sexual objecti...    200    159    41\n",
      "4.1 supporting mistreatment of individual women        75     55    20\n",
      "3.3 backhanded gendered compliments                    64     46    18\n",
      "1.1 threats of harm                                    56     44    12\n",
      "3.4 condescending explanations or unwelcome advice     47     34    13\n",
      "                                                         all     train  \\\n",
      "none                                                0.757286  0.759464   \n",
      "2.1 descriptive attacks                             0.051214  0.051518   \n",
      "2.2 aggressive and emotive attacks                  0.048071  0.049286   \n",
      "3.1 casual use of gendered slurs, profanities, ...  0.045500  0.044196   \n",
      "3.2 immutable gender differences and gender ste...  0.029786  0.028661   \n",
      "4.2 supporting systemic discrimination against ...  0.018429  0.018304   \n",
      "1.2 incitement and encouragement of harm            0.018143  0.018393   \n",
      "2.3 dehumanising attacks & overt sexual objecti...  0.014286  0.014196   \n",
      "4.1 supporting mistreatment of individual women     0.005357  0.004911   \n",
      "3.3 backhanded gendered compliments                 0.004571  0.004107   \n",
      "1.1 threats of harm                                 0.004000  0.003929   \n",
      "3.4 condescending explanations or unwelcome advice  0.003357  0.003036   \n",
      "\n",
      "                                                         val  \n",
      "none                                                0.748571  \n",
      "2.1 descriptive attacks                             0.050000  \n",
      "2.2 aggressive and emotive attacks                  0.043214  \n",
      "3.1 casual use of gendered slurs, profanities, ...  0.050714  \n",
      "3.2 immutable gender differences and gender ste...  0.034286  \n",
      "4.2 supporting systemic discrimination against ...  0.018929  \n",
      "1.2 incitement and encouragement of harm            0.017143  \n",
      "2.3 dehumanising attacks & overt sexual objecti...  0.014643  \n",
      "4.1 supporting mistreatment of individual women     0.007143  \n",
      "3.3 backhanded gendered compliments                 0.006429  \n",
      "1.1 threats of harm                                 0.004286  \n",
      "3.4 condescending explanations or unwelcome advice  0.004643  \n"
     ]
    }
   ]
  },
  {
   "cell_type": "code",
   "source": [],
   "metadata": {
    "id": "s2yA61lBeqik"
   },
   "execution_count": null,
   "outputs": []
  }
 ]
}
