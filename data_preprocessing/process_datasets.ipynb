{
 "cells": [
  {
   "cell_type": "code",
   "execution_count": 1,
   "id": "f42b446e",
   "metadata": {},
   "outputs": [],
   "source": [
    "import os\n",
    "import pandas as pd\n",
    "import numpy as np\n",
    "from sklearn.model_selection import train_test_split"
   ]
  },
  {
   "cell_type": "markdown",
   "id": "42114b97",
   "metadata": {},
   "source": [
    "# Hate speech datasets\n",
    "\n",
    "* olid + offenseval\n",
    "* hateval\n",
    "* haspeede2018 + 2020\n",
    "* measuring\n",
    "* unintended"
   ]
  },
  {
   "cell_type": "code",
   "execution_count": 2,
   "id": "0167ce19",
   "metadata": {},
   "outputs": [],
   "source": [
    "HS_DIRNAME = os.path.join('..', 'multitask_data', 'raw', 'hate_speech')\n",
    "FORMATTED_DIR = os.path.join('..', 'multitask_data', 'formatted', 'hate_speech')\n",
    "os.makedirs(FORMATTED_DIR, exist_ok=True)"
   ]
  },
  {
   "cell_type": "markdown",
   "id": "3f9c82e1",
   "metadata": {},
   "source": [
    "## OffensEval"
   ]
  },
  {
   "cell_type": "code",
   "execution_count": 25,
   "id": "762682ef",
   "metadata": {},
   "outputs": [],
   "source": [
    "OLID_DIRNAME = os.path.join(HS_DIRNAME, 'OLIDv1.0')"
   ]
  },
  {
   "cell_type": "code",
   "execution_count": 38,
   "id": "21b4c6da",
   "metadata": {
    "scrolled": true
   },
   "outputs": [],
   "source": [
    "olid_train_df = pd.read_csv(os.path.join(OLID_DIRNAME, 'olid-training-v1.0.tsv'), sep='\\t')"
   ]
  },
  {
   "cell_type": "code",
   "execution_count": 39,
   "id": "9bb2f3ed",
   "metadata": {},
   "outputs": [],
   "source": [
    "olid_test_df = pd.read_csv(os.path.join(OLID_DIRNAME, 'testset-levela.tsv'), sep='\\t')\n",
    "\n",
    "for label in ['a', 'b', 'c']:\n",
    "    labels_df = pd.read_csv(\n",
    "        os.path.join(OLID_DIRNAME, f'labels-level{label}.csv'), \n",
    "        names=[f'subtask_{label}'], header=None\n",
    "    )\n",
    "    olid_test_df = olid_test_df.join(labels_df, on='id', how='left')"
   ]
  },
  {
   "cell_type": "code",
   "execution_count": 40,
   "id": "9fa5f76b",
   "metadata": {},
   "outputs": [],
   "source": [
    "offenseval = pd.concat((olid_train_df, olid_test_df), ignore_index=True)"
   ]
  },
  {
   "cell_type": "code",
   "execution_count": 41,
   "id": "4acc3540",
   "metadata": {},
   "outputs": [],
   "source": [
    "offenseval.loc[offenseval['subtask_b'] == 'TIN', 'subtask_b'] = offenseval.subtask_c\n",
    "offenseval.drop(('subtask_c'), axis=1, inplace=True)\n",
    "offenseval.rename(columns={\n",
    "    'id': 'orig_id', \n",
    "    'tweet': 'text',\n",
    "    'subtask_a': 'is_offense',\n",
    "    'subtask_b': 'target'\n",
    "}, inplace=True)"
   ]
  },
  {
   "cell_type": "code",
   "execution_count": 42,
   "id": "39fd0f66",
   "metadata": {
    "scrolled": true
   },
   "outputs": [],
   "source": [
    "offenseval.loc[offenseval.is_offense.str.lower() == 'off', 'is_offense'] = 1\n",
    "offenseval.loc[offenseval.is_offense.str.lower() == 'not', 'is_offense'] = 0"
   ]
  },
  {
   "cell_type": "code",
   "execution_count": 43,
   "id": "078b1e3b",
   "metadata": {},
   "outputs": [],
   "source": [
    "offenseval['dataset'] = 'olid'\n",
    "offenseval['language'] = 'en'"
   ]
  },
  {
   "cell_type": "code",
   "execution_count": 44,
   "id": "9cfc4680",
   "metadata": {},
   "outputs": [
    {
     "data": {
      "text/plain": [
       "(14100, 6)"
      ]
     },
     "execution_count": 44,
     "metadata": {},
     "output_type": "execute_result"
    }
   ],
   "source": [
    "offenseval.shape"
   ]
  },
  {
   "cell_type": "code",
   "execution_count": null,
   "id": "dd8d4250",
   "metadata": {
    "scrolled": false
   },
   "outputs": [],
   "source": [
    "offenseval"
   ]
  },
  {
   "cell_type": "code",
   "execution_count": 47,
   "id": "95b330f3",
   "metadata": {},
   "outputs": [],
   "source": [
    "offenseval.to_csv(os.path.join(FORMATTED_DIR, 'olid_and_offenseval.csv'))"
   ]
  },
  {
   "cell_type": "markdown",
   "id": "6fdec8b7",
   "metadata": {},
   "source": [
    "## HatEval"
   ]
  },
  {
   "cell_type": "code",
   "execution_count": 60,
   "id": "4c048b51",
   "metadata": {},
   "outputs": [],
   "source": [
    "HATEVAL_DIR = os.path.join(HS_DIRNAME, 'hateval2019')"
   ]
  },
  {
   "cell_type": "code",
   "execution_count": 61,
   "id": "e073a862",
   "metadata": {},
   "outputs": [],
   "source": [
    "hatevals = []\n",
    "for language in ['en', 'es']:\n",
    "    for part in ['train', 'dev', 'test']:\n",
    "        curr_df = pd.read_csv(os.path.join(HATEVAL_DIR, f'hateval2019_{language}_{part}.csv'))\n",
    "        curr_df['dataset'] = 'hateval'\n",
    "        curr_df['language'] = language\n",
    "        hatevals.append(curr_df)\n",
    "\n",
    "hateval = pd.concat(hatevals, ignore_index=True)"
   ]
  },
  {
   "cell_type": "code",
   "execution_count": 62,
   "id": "64d24aff",
   "metadata": {},
   "outputs": [],
   "source": [
    "hateval.drop(['AG'], axis=1, inplace=True)"
   ]
  },
  {
   "cell_type": "code",
   "execution_count": 63,
   "id": "08f6d476",
   "metadata": {},
   "outputs": [],
   "source": [
    "hateval.loc[(hateval.HS == 1) & (hateval.TR == 0), 'TR'] = 'GRP'\n",
    "hateval.loc[(hateval.HS == 1) & (hateval.TR == 1), 'TR'] = 'IND' \n",
    "hateval.loc[hateval.HS == 0, 'TR'] = np.nan"
   ]
  },
  {
   "cell_type": "code",
   "execution_count": 64,
   "id": "34de5147",
   "metadata": {},
   "outputs": [],
   "source": [
    "hateval.rename(columns={\n",
    "    'id': 'orig_id', \n",
    "    'HS': 'is_hate',\n",
    "    'TR': 'target'\n",
    "}, inplace=True)"
   ]
  },
  {
   "cell_type": "code",
   "execution_count": 65,
   "id": "1192bb6e",
   "metadata": {},
   "outputs": [
    {
     "data": {
      "text/plain": [
       "(19600, 6)"
      ]
     },
     "execution_count": 65,
     "metadata": {},
     "output_type": "execute_result"
    }
   ],
   "source": [
    "hateval.shape"
   ]
  },
  {
   "cell_type": "code",
   "execution_count": null,
   "id": "34f5f15d",
   "metadata": {},
   "outputs": [],
   "source": [
    "hateval"
   ]
  },
  {
   "cell_type": "code",
   "execution_count": 30,
   "id": "c3cc65af",
   "metadata": {},
   "outputs": [],
   "source": [
    "hateval.to_csv(os.path.join(FORMATTED_DIR, 'hateval.csv'))"
   ]
  },
  {
   "cell_type": "markdown",
   "id": "0b96ab48",
   "metadata": {},
   "source": [
    "## HaSpeeDe"
   ]
  },
  {
   "cell_type": "markdown",
   "id": "c028cd84",
   "metadata": {},
   "source": [
    "### 2018"
   ]
  },
  {
   "cell_type": "code",
   "execution_count": 29,
   "id": "68be9c23",
   "metadata": {},
   "outputs": [],
   "source": [
    "# Taking only FB from 2018, Twitter was included in 2020\n",
    "HASPEEDE2018_DIR = os.path.join(HS_DIRNAME, 'HaSpeeDe_2018', 'FB-folder')"
   ]
  },
  {
   "cell_type": "code",
   "execution_count": 30,
   "id": "de267ad0",
   "metadata": {},
   "outputs": [],
   "source": [
    "haspeede2018s = []\n",
    "for part in ['train', 'reference']:\n",
    "    curr_df = pd.read_csv(\n",
    "        os.path.join(HASPEEDE2018_DIR, f'FB-{part}', f'haspeede_FB-{part}.tsv'), \n",
    "        header=None, names=['id', 'text', 'is_hate'], sep='\\t'\n",
    "    )\n",
    "    haspeede2018s.append(curr_df)\n",
    "\n",
    "haspeede2018 = pd.concat(haspeede2018s, ignore_index=True)"
   ]
  },
  {
   "cell_type": "code",
   "execution_count": 31,
   "id": "1cf9721e",
   "metadata": {},
   "outputs": [],
   "source": [
    "haspeede2018['dataset'] = 'haspeede2018'\n",
    "haspeede2018['language'] = 'it'\n",
    "haspeede2018.rename(columns={'id': 'orig_id'}, inplace=True) "
   ]
  },
  {
   "cell_type": "code",
   "execution_count": 32,
   "id": "b4d5cdfe",
   "metadata": {},
   "outputs": [
    {
     "data": {
      "text/plain": [
       "(4000, 5)"
      ]
     },
     "execution_count": 32,
     "metadata": {},
     "output_type": "execute_result"
    }
   ],
   "source": [
    "haspeede2018.shape"
   ]
  },
  {
   "cell_type": "code",
   "execution_count": null,
   "id": "aa8d7a20",
   "metadata": {},
   "outputs": [],
   "source": [
    "haspeede2018"
   ]
  },
  {
   "cell_type": "markdown",
   "id": "95bed633",
   "metadata": {},
   "source": [
    "### 2020"
   ]
  },
  {
   "cell_type": "code",
   "execution_count": 33,
   "id": "fc6e960d",
   "metadata": {},
   "outputs": [],
   "source": [
    "HASPEEDE2020_DIR = os.path.join(HS_DIRNAME, 'HaSpeeDe_2020')"
   ]
  },
  {
   "cell_type": "code",
   "execution_count": 34,
   "id": "4f7a7561",
   "metadata": {
    "scrolled": false
   },
   "outputs": [],
   "source": [
    "haspeede2020 = pd.read_csv(\n",
    "    os.path.join(HASPEEDE2020_DIR, f'haspeede2_dev', f'haspeede2_dev_taskAB.tsv'), \n",
    "    sep='\\t'\n",
    ")\n",
    "\n",
    "for source in ['news', 'tweets']:\n",
    "    ref_df = pd.read_csv(\n",
    "        os.path.join(HASPEEDE2020_DIR, 'haspeede2_reference', f'haspeede2_reference_taskAB-{source}.tsv'), \n",
    "        sep='\\t', header=None, names=haspeede2020.columns\n",
    "    )\n",
    "    haspeede2020 = pd.concat((haspeede2020, ref_df), ignore_index=True)"
   ]
  },
  {
   "cell_type": "code",
   "execution_count": 35,
   "id": "beef8844",
   "metadata": {},
   "outputs": [],
   "source": [
    "haspeede2020.drop(['stereotype'], axis=1, inplace=True)\n",
    "haspeede2020.rename(columns={'id': 'orig_id', 'hs': 'is_hate', 'text ': 'text'}, inplace=True) \n",
    "haspeede2020['dataset'] = 'haspeede2020'\n",
    "haspeede2020['language'] = 'it'"
   ]
  },
  {
   "cell_type": "code",
   "execution_count": 36,
   "id": "72f931f7",
   "metadata": {},
   "outputs": [
    {
     "data": {
      "text/plain": [
       "(8600, 5)"
      ]
     },
     "execution_count": 36,
     "metadata": {},
     "output_type": "execute_result"
    }
   ],
   "source": [
    "haspeede2020.shape"
   ]
  },
  {
   "cell_type": "code",
   "execution_count": null,
   "id": "5f7071c0",
   "metadata": {},
   "outputs": [],
   "source": [
    "haspeede2020"
   ]
  },
  {
   "cell_type": "markdown",
   "id": "029c48cf",
   "metadata": {},
   "source": [
    "### Concatenation"
   ]
  },
  {
   "cell_type": "code",
   "execution_count": 37,
   "id": "9dabde4d",
   "metadata": {},
   "outputs": [],
   "source": [
    "haspeede = pd.concat((haspeede2018, haspeede2020), ignore_index=True)"
   ]
  },
  {
   "cell_type": "code",
   "execution_count": 38,
   "id": "f35a0401",
   "metadata": {},
   "outputs": [
    {
     "data": {
      "text/plain": [
       "(12600, 5)"
      ]
     },
     "execution_count": 38,
     "metadata": {},
     "output_type": "execute_result"
    }
   ],
   "source": [
    "haspeede.shape"
   ]
  },
  {
   "cell_type": "code",
   "execution_count": 43,
   "id": "43014b5d",
   "metadata": {},
   "outputs": [],
   "source": [
    "haspeede.to_csv(os.path.join(FORMATTED_DIR, 'haspeede.csv'))"
   ]
  },
  {
   "cell_type": "markdown",
   "id": "b726d2ab",
   "metadata": {},
   "source": [
    "## Measuring hate speech"
   ]
  },
  {
   "cell_type": "code",
   "execution_count": 3,
   "id": "185fd9f4",
   "metadata": {},
   "outputs": [],
   "source": [
    "HATE_THRESHOLD = 0.5"
   ]
  },
  {
   "cell_type": "code",
   "execution_count": 4,
   "id": "18e0f697",
   "metadata": {},
   "outputs": [],
   "source": [
    "measuring_df_raw = pd.read_csv(os.path.join(HS_DIRNAME, 'measuring_hate_speech', 'data.csv'))"
   ]
  },
  {
   "cell_type": "code",
   "execution_count": 5,
   "id": "455a285c",
   "metadata": {},
   "outputs": [],
   "source": [
    "unique_comments = measuring_df_raw.groupby('comment_id', sort=False)"
   ]
  },
  {
   "cell_type": "code",
   "execution_count": 6,
   "id": "9fd7738c",
   "metadata": {},
   "outputs": [],
   "source": [
    "new_cols = [\n",
    "    unique_comments['text'].first(),\n",
    "    unique_comments['hate_speech_score'].first(),\n",
    "    unique_comments['target_race'].mean(),\n",
    "    unique_comments['target_religion'].mean(),\n",
    "    unique_comments['target_origin'].mean(),\n",
    "    unique_comments['target_gender'].mean(),\n",
    "    unique_comments['target_sexuality'].mean(),\n",
    "    unique_comments['target_age'].mean(),\n",
    "    unique_comments['target_disability'].mean()\n",
    "]"
   ]
  },
  {
   "cell_type": "code",
   "execution_count": 7,
   "id": "928bba2b",
   "metadata": {},
   "outputs": [],
   "source": [
    "measuring = pd.concat(new_cols, axis=1)"
   ]
  },
  {
   "cell_type": "code",
   "execution_count": 8,
   "id": "6f3f7b91",
   "metadata": {},
   "outputs": [],
   "source": [
    "measuring.hate_speech_score = np.where(measuring.hate_speech_score > HATE_THRESHOLD, 1, 0)"
   ]
  },
  {
   "cell_type": "code",
   "execution_count": 9,
   "id": "07ccc7db",
   "metadata": {},
   "outputs": [],
   "source": [
    "measuring.reset_index(inplace=True)"
   ]
  },
  {
   "cell_type": "code",
   "execution_count": 10,
   "id": "43db230a",
   "metadata": {},
   "outputs": [],
   "source": [
    "cols_to_rename = {\n",
    "    col: col[len('target_'):] \n",
    "    for col in measuring.columns\n",
    "    if col.startswith('target_')\n",
    "}\n",
    "cols_to_rename['hate_speech_score'] = 'is_hate'\n",
    "cols_to_rename['comment_id'] = 'orig_id'\n",
    "\n",
    "measuring.rename(columns=cols_to_rename, inplace=True)"
   ]
  },
  {
   "cell_type": "code",
   "execution_count": 11,
   "id": "5cd0e8b4",
   "metadata": {},
   "outputs": [],
   "source": [
    "measuring['dataset'] = 'measuring'\n",
    "measuring['language'] = 'en'"
   ]
  },
  {
   "cell_type": "code",
   "execution_count": 12,
   "id": "061799a7",
   "metadata": {},
   "outputs": [],
   "source": [
    "measuring.drop(['origin', 'age'], axis=1, inplace=True)  # no annotation for this in `unintended`"
   ]
  },
  {
   "cell_type": "code",
   "execution_count": 50,
   "id": "fcb27a41",
   "metadata": {},
   "outputs": [
    {
     "data": {
      "text/plain": [
       "(39565, 10)"
      ]
     },
     "execution_count": 50,
     "metadata": {},
     "output_type": "execute_result"
    }
   ],
   "source": [
    "measuring.shape"
   ]
  },
  {
   "cell_type": "code",
   "execution_count": null,
   "id": "8a3682e6",
   "metadata": {
    "scrolled": false
   },
   "outputs": [],
   "source": [
    "measuring"
   ]
  },
  {
   "cell_type": "code",
   "execution_count": 56,
   "id": "4e202d5c",
   "metadata": {},
   "outputs": [],
   "source": [
    "measuring.to_csv(os.path.join(FORMATTED_DIR, 'measuring.csv'))"
   ]
  },
  {
   "cell_type": "markdown",
   "id": "0e7ba6a9",
   "metadata": {},
   "source": [
    "## Jigsaw unintended bias (CivilComments)"
   ]
  },
  {
   "cell_type": "code",
   "execution_count": 14,
   "id": "dce74d11",
   "metadata": {},
   "outputs": [],
   "source": [
    "HATE_THRESHOLD = 0.5"
   ]
  },
  {
   "cell_type": "code",
   "execution_count": 15,
   "id": "17a75e86",
   "metadata": {},
   "outputs": [],
   "source": [
    "UNINTENDED_PATH = os.path.join(HS_DIRNAME, 'Jigsaw_unintended_bias_civil_comments')"
   ]
  },
  {
   "cell_type": "code",
   "execution_count": 16,
   "id": "ce530b71",
   "metadata": {},
   "outputs": [],
   "source": [
    "# ~700 Mb of RAM\n",
    "\n",
    "unintended_reader = pd.read_csv(\n",
    "    os.path.join(UNINTENDED_PATH, 'all_data.csv'),\n",
    "    chunksize=5000\n",
    ")\n",
    "\n",
    "relevant_rows = []\n",
    "for chunk in unintended_reader:\n",
    "    rel_chunk = chunk.loc[chunk.identity_annotator_count != 0]\n",
    "    if rel_chunk.shape[0]:\n",
    "        relevant_rows.append(rel_chunk)\n",
    "\n",
    "unintended_df = pd.concat(relevant_rows, ignore_index=True)"
   ]
  },
  {
   "cell_type": "code",
   "execution_count": 17,
   "id": "33a9295a",
   "metadata": {},
   "outputs": [],
   "source": [
    "TARGET_COLS = {\n",
    "    'gender': ['male', 'female', 'transgender', 'other_gender'],\n",
    "    'sexuality': ['heterosexual', 'homosexual_gay_or_lesbian', 'bisexual', 'other_sexual_orientation'],\n",
    "    'religion': ['christian', 'jewish', 'muslim', 'hindu', 'buddhist', 'atheist', 'other_religion'],\n",
    "    'race': ['black', 'white', 'asian', 'latino', 'other_race_or_ethnicity'],\n",
    "    'disability': [\n",
    "        'physical_disability', 'intellectual_or_learning_disability', \n",
    "        'psychiatric_or_mental_illness', 'other_disability'\n",
    "    ]\n",
    "}\n",
    "\n",
    "COLS_TO_RENAME = {\n",
    "    'id': 'orig_id',\n",
    "    'comment_text': 'text',\n",
    "    'toxicity': 'is_toxicity'\n",
    "}"
   ]
  },
  {
   "cell_type": "code",
   "execution_count": 18,
   "id": "abda0f28",
   "metadata": {},
   "outputs": [],
   "source": [
    "cols_to_keep = [x for v in TARGET_COLS.values() for x in v] + list(COLS_TO_RENAME.keys())\n",
    "\n",
    "unintended_df.drop(\n",
    "    [x for x in unintended_df.columns if x not in cols_to_keep],\n",
    "    inplace=True, axis=1\n",
    ")"
   ]
  },
  {
   "cell_type": "code",
   "execution_count": 19,
   "id": "264e913d",
   "metadata": {},
   "outputs": [],
   "source": [
    "for res_colname, raw_cols in TARGET_COLS.items():\n",
    "    res_col = unintended_df[raw_cols].max(axis=1)\n",
    "    unintended_df[res_colname] = res_col\n",
    "    unintended_df.drop(raw_cols, inplace=True, axis=1)"
   ]
  },
  {
   "cell_type": "code",
   "execution_count": 20,
   "id": "7ef02162",
   "metadata": {},
   "outputs": [],
   "source": [
    "unintended_df.toxicity = np.round(unintended_df.toxicity)\n",
    "unintended_df.rename(columns=COLS_TO_RENAME, inplace=True)"
   ]
  },
  {
   "cell_type": "code",
   "execution_count": 21,
   "id": "db1d1ca8",
   "metadata": {},
   "outputs": [],
   "source": [
    "unintended_df['dataset'] = 'unintended'\n",
    "unintended_df['language'] = 'en'"
   ]
  },
  {
   "cell_type": "code",
   "execution_count": 60,
   "id": "dce842c6",
   "metadata": {},
   "outputs": [
    {
     "data": {
      "text/plain": [
       "(448000, 10)"
      ]
     },
     "execution_count": 60,
     "metadata": {},
     "output_type": "execute_result"
    }
   ],
   "source": [
    "unintended_df.shape"
   ]
  },
  {
   "cell_type": "code",
   "execution_count": null,
   "id": "8ddfa510",
   "metadata": {},
   "outputs": [],
   "source": [
    "unintended_df"
   ]
  },
  {
   "cell_type": "code",
   "execution_count": 171,
   "id": "e7e30189",
   "metadata": {},
   "outputs": [],
   "source": [
    "unintended_df.to_csv(os.path.join(FORMATTED_DIR, 'unintended_bias.csv'))"
   ]
  },
  {
   "cell_type": "markdown",
   "id": "a5afbd79",
   "metadata": {},
   "source": [
    "# Sexism datasets\n",
    "\n",
    "* evalita 2018\n",
    "* evalita 2020\n",
    "* call_me_sexist\n",
    "* exist\n",
    "* online_misogyny\n",
    "* edos"
   ]
  },
  {
   "cell_type": "code",
   "execution_count": 67,
   "id": "4386de26",
   "metadata": {},
   "outputs": [],
   "source": [
    "SEXISM_DIRNAME = os.path.join('..', 'multitask_data', 'raw', 'misogyny')\n",
    "FORMATTED_DIR = os.path.join('..', 'multitask_data', 'formatted', 'misogyny')\n",
    "os.makedirs(FORMATTED_DIR, exist_ok=True)"
   ]
  },
  {
   "cell_type": "markdown",
   "id": "7c2afb75",
   "metadata": {},
   "source": [
    "## AMI@EVALITA"
   ]
  },
  {
   "cell_type": "code",
   "execution_count": 68,
   "id": "01c4007c",
   "metadata": {},
   "outputs": [],
   "source": [
    "EVALITA_DIR = os.path.join(SEXISM_DIRNAME, 'AMI_EVALITA')"
   ]
  },
  {
   "cell_type": "markdown",
   "id": "2d84d20b",
   "metadata": {},
   "source": [
    "### 2018"
   ]
  },
  {
   "cell_type": "code",
   "execution_count": 69,
   "id": "2233f896",
   "metadata": {},
   "outputs": [],
   "source": [
    "evalita2018_dfs = []\n",
    "for lang in ['en', 'it']:\n",
    "    for part in ['training', 'testing_labeled']:\n",
    "        df = pd.read_csv(os.path.join(EVALITA_DIR, 'AMI2018_ELG', f'{lang}_{part}_anon.tsv'), sep='\\t')\n",
    "        df['language'] = lang\n",
    "        evalita2018_dfs.append(df)\n",
    "\n",
    "evalita2018 = pd.concat(evalita2018_dfs, ignore_index=True)"
   ]
  },
  {
   "cell_type": "code",
   "execution_count": 70,
   "id": "a46df13f",
   "metadata": {},
   "outputs": [],
   "source": [
    "evalita2018['dataset'] = 'evalita2018'\n",
    "evalita2018.rename(\n",
    "    columns={'id': 'orig_id', 'misogynous': 'is_sexism', 'misogyny_category': 'sexism_category'},\n",
    "    inplace=True\n",
    ")"
   ]
  },
  {
   "cell_type": "code",
   "execution_count": 71,
   "id": "8c65abd2",
   "metadata": {},
   "outputs": [],
   "source": [
    "# in accordance with other HS datasets\n",
    "evalita2018.loc[evalita2018.target == '0', 'target'] = np.nan\n",
    "evalita2018.loc[evalita2018.target == 'active', 'target'] = 'IND'\n",
    "evalita2018.loc[evalita2018.target.isin(['passive', 'pass']), 'target'] = 'GRP'"
   ]
  },
  {
   "cell_type": "code",
   "execution_count": 72,
   "id": "2aacd5a9",
   "metadata": {},
   "outputs": [],
   "source": [
    "evalita2018.loc[evalita2018.sexism_category == '0', 'sexism_category'] = 0"
   ]
  },
  {
   "cell_type": "code",
   "execution_count": 73,
   "id": "839a7e7b",
   "metadata": {},
   "outputs": [
    {
     "data": {
      "text/plain": [
       "(10000, 7)"
      ]
     },
     "execution_count": 73,
     "metadata": {},
     "output_type": "execute_result"
    }
   ],
   "source": [
    "evalita2018.shape"
   ]
  },
  {
   "cell_type": "code",
   "execution_count": null,
   "id": "6beaef9d",
   "metadata": {
    "scrolled": false
   },
   "outputs": [],
   "source": [
    "evalita2018"
   ]
  },
  {
   "cell_type": "code",
   "execution_count": 76,
   "id": "5a82e148",
   "metadata": {},
   "outputs": [],
   "source": [
    "evalita2018.to_csv(os.path.join(FORMATTED_DIR, 'evalita2018.csv'))"
   ]
  },
  {
   "cell_type": "markdown",
   "id": "38705701",
   "metadata": {},
   "source": [
    "### 2020"
   ]
  },
  {
   "cell_type": "code",
   "execution_count": 71,
   "id": "a0601e3a",
   "metadata": {},
   "outputs": [],
   "source": [
    "# taking only test because train is from 2018\n",
    "\n",
    "evalita2020 = pd.read_csv(\n",
    "    os.path.join(EVALITA_DIR, 'AMI2020', 'testset', 'AMI2020_test_raw_gold_anon.tsv'),\n",
    "    sep='\\t'\n",
    ")"
   ]
  },
  {
   "cell_type": "code",
   "execution_count": 72,
   "id": "c4b61f84",
   "metadata": {},
   "outputs": [],
   "source": [
    "evalita2020.rename(columns={'id': 'orig_id', 'misogynous': 'is_sexism'}, inplace=True)\n",
    "evalita2020.drop(['aggressiveness'], axis=1, inplace=True)\n",
    "evalita2020['dataset'] = 'evalita2020'\n",
    "evalita2020['language'] = 'it'"
   ]
  },
  {
   "cell_type": "code",
   "execution_count": 73,
   "id": "9939ff57",
   "metadata": {},
   "outputs": [
    {
     "data": {
      "text/plain": [
       "(1000, 5)"
      ]
     },
     "execution_count": 73,
     "metadata": {},
     "output_type": "execute_result"
    }
   ],
   "source": [
    "evalita2020.shape"
   ]
  },
  {
   "cell_type": "code",
   "execution_count": null,
   "id": "e6e31fa4",
   "metadata": {
    "scrolled": false
   },
   "outputs": [],
   "source": [
    "evalita2020"
   ]
  },
  {
   "cell_type": "code",
   "execution_count": 81,
   "id": "7f200188",
   "metadata": {},
   "outputs": [],
   "source": [
    "evalita2020.to_csv(os.path.join(FORMATTED_DIR, 'evalita2020.csv'))"
   ]
  },
  {
   "cell_type": "markdown",
   "id": "ecee32bd",
   "metadata": {},
   "source": [
    "## Call me sexist"
   ]
  },
  {
   "cell_type": "code",
   "execution_count": 75,
   "id": "1ed2c663",
   "metadata": {},
   "outputs": [],
   "source": [
    "CONTENT_CATEGORIES = {\n",
    "    1: 'behavioral expectations',\n",
    "    2: 'stereotypes and comparisons',\n",
    "    3: 'endorsement of inequality',\n",
    "    4: 'denying inequality and rejecting feminism',\n",
    "    5: 0,\n",
    "    6: 0\n",
    "}"
   ]
  },
  {
   "cell_type": "code",
   "execution_count": 76,
   "id": "04b9324d",
   "metadata": {},
   "outputs": [],
   "source": [
    "call_me_sexist_data = pd.read_csv(os.path.join(SEXISM_DIRNAME, 'call_me_sexist', 'call_me_sexist_data.csv'))\n",
    "call_me_sexist_data = call_me_sexist_data.loc[call_me_sexist_data.of_id == -1]  # removing adversarial examples\n",
    "call_me_sexist_data = call_me_sexist_data.drop(['of_id', 'toxicity', 'dataset'], axis=1)"
   ]
  },
  {
   "cell_type": "code",
   "execution_count": 77,
   "id": "42e1b6d3",
   "metadata": {},
   "outputs": [],
   "source": [
    "call_me_sexist_ann = pd.read_csv(os.path.join(SEXISM_DIRNAME, 'call_me_sexist', 'call_me_sexist_annotations.csv'))\n",
    "\n",
    "# not in the final dataset\n",
    "dropped_ids = call_me_sexist_ann.loc[~call_me_sexist_ann.id.isin(call_me_sexist_data.id)].index\n",
    "call_me_sexist_ann.drop(dropped_ids, axis=0, inplace=True)"
   ]
  },
  {
   "cell_type": "code",
   "execution_count": 78,
   "id": "f62abf5f",
   "metadata": {},
   "outputs": [],
   "source": [
    "grouped = call_me_sexist_ann.groupby(['id', 'content']).count()"
   ]
  },
  {
   "cell_type": "code",
   "execution_count": 79,
   "id": "1d2cd868",
   "metadata": {},
   "outputs": [],
   "source": [
    "# for retrieving maximum everywhere: \n",
    "# nice when there are <4 workers\n",
    "# not nice when the workers disagree, e.g. 2 votes for two options\n",
    "\n",
    "# flat_df = pd.DataFrame.from_records(grouped.index)\n",
    "# flat_df['worker'] = grouped.worker.tolist()\n",
    "# max_content = flat_df.loc[flat_df.groupby(0).worker.idxmax()]"
   ]
  },
  {
   "cell_type": "code",
   "execution_count": 80,
   "id": "1dd52d6f",
   "metadata": {},
   "outputs": [],
   "source": [
    "# for absolute maximum, no disagreement, \n",
    "# but sents with fewer annotators are lost\n",
    "max_content = grouped.loc[grouped.worker >= 3]"
   ]
  },
  {
   "cell_type": "code",
   "execution_count": 81,
   "id": "e239d251",
   "metadata": {},
   "outputs": [
    {
     "data": {
      "text/plain": [
       "745"
      ]
     },
     "execution_count": 81,
     "metadata": {},
     "output_type": "execute_result"
    }
   ],
   "source": [
    "# messages with no absolute maximum or with few annotators\n",
    "len(set(grouped.index.get_level_values('id')) - set(max_content.index.get_level_values('id')))"
   ]
  },
  {
   "cell_type": "code",
   "execution_count": 82,
   "id": "540106dd",
   "metadata": {},
   "outputs": [],
   "source": [
    "max_content_ids = max_content.index.get_level_values('id')\n",
    "max_content_vals = max_content.index.get_level_values('content').tolist()\n",
    "\n",
    "# NB: if absolute max is used, there is no annotation for some sexist messages\n",
    "call_me_sexist_data['category'] = 0\n",
    "call_me_sexist_data.loc[call_me_sexist_data.id.isin(max_content_ids), 'category'] = max_content_vals"
   ]
  },
  {
   "cell_type": "code",
   "execution_count": 83,
   "id": "33414719",
   "metadata": {
    "scrolled": false
   },
   "outputs": [],
   "source": [
    "# NB: 5s (\"not sure\") are also disregarded from subclassification\n",
    "for number, label in CONTENT_CATEGORIES.items():\n",
    "    call_me_sexist_data.loc[call_me_sexist_data.category == number, 'category'] = label"
   ]
  },
  {
   "cell_type": "code",
   "execution_count": 84,
   "id": "041676bf",
   "metadata": {},
   "outputs": [],
   "source": [
    "call_me_sexist_data.rename(\n",
    "    columns={'id': 'orig_id', 'sexist': 'is_sexism', 'category': 'sexism_category'},\n",
    "    inplace=True\n",
    ")\n",
    "call_me_sexist_data.is_sexism = call_me_sexist_data.is_sexism.astype(int)\n",
    "call_me_sexist_data['dataset'] = 'call_me_sexist'\n",
    "call_me_sexist_data['language'] = 'en'"
   ]
  },
  {
   "cell_type": "code",
   "execution_count": 85,
   "id": "bb392a1f",
   "metadata": {},
   "outputs": [
    {
     "data": {
      "text/plain": [
       "(1241, 523)"
      ]
     },
     "execution_count": 85,
     "metadata": {},
     "output_type": "execute_result"
    }
   ],
   "source": [
    "# sexist messages with and without subcategory annotation\n",
    "with_sub = call_me_sexist_data.loc[\n",
    "    (call_me_sexist_data.sexism_category != 0) & (call_me_sexist_data.is_sexism)\n",
    "]\n",
    "without_sub = call_me_sexist_data.loc[\n",
    "    (call_me_sexist_data.sexism_category == 0) & (call_me_sexist_data.is_sexism)\n",
    "]\n",
    "\n",
    "with_sub.shape[0], without_sub.shape[0]"
   ]
  },
  {
   "cell_type": "code",
   "execution_count": 86,
   "id": "6cee1b90",
   "metadata": {
    "scrolled": true
   },
   "outputs": [
    {
     "data": {
      "text/plain": [
       "(11339, 6)"
      ]
     },
     "execution_count": 86,
     "metadata": {},
     "output_type": "execute_result"
    }
   ],
   "source": [
    "call_me_sexist_data.shape"
   ]
  },
  {
   "cell_type": "code",
   "execution_count": null,
   "id": "4a0c615e",
   "metadata": {},
   "outputs": [],
   "source": [
    "call_me_sexist_data"
   ]
  },
  {
   "cell_type": "code",
   "execution_count": 94,
   "id": "4feb007b",
   "metadata": {},
   "outputs": [],
   "source": [
    "call_me_sexist_data.to_csv(os.path.join(FORMATTED_DIR, 'call_me_sexist.csv'))"
   ]
  },
  {
   "cell_type": "markdown",
   "id": "e0c028f9",
   "metadata": {},
   "source": [
    "## EXIST"
   ]
  },
  {
   "cell_type": "code",
   "execution_count": 89,
   "id": "cd7f61e5",
   "metadata": {},
   "outputs": [],
   "source": [
    "train = pd.read_csv(os.path.join(SEXISM_DIRNAME, 'EXIST2021', 'training', 'EXIST2021_training.tsv'), sep='\\t')\n",
    "test = pd.read_csv(os.path.join(SEXISM_DIRNAME, 'EXIST2021', 'test', 'EXIST2021_test_labeled.tsv'), sep='\\t')\n",
    "exist = pd.concat([train, test], ignore_index=True)"
   ]
  },
  {
   "cell_type": "code",
   "execution_count": 90,
   "id": "074abe08",
   "metadata": {},
   "outputs": [],
   "source": [
    "exist.drop(['source', 'test_case'], axis=1, inplace=True)\n",
    "exist.rename(columns={'id': 'orig_id', 'task1': 'is_sexism', 'task2': 'sexism_category'}, inplace=True)\n",
    "exist['dataset'] = 'exist'"
   ]
  },
  {
   "cell_type": "code",
   "execution_count": 91,
   "id": "d6d6e645",
   "metadata": {},
   "outputs": [],
   "source": [
    "exist.loc[exist.is_sexism == 'sexist', 'is_sexism'] = 1\n",
    "exist.loc[exist.is_sexism == 'non-sexist', 'is_sexism'] = 0\n",
    "exist.loc[exist.is_sexism == 0, 'sexism_category'] = 0"
   ]
  },
  {
   "cell_type": "code",
   "execution_count": 93,
   "id": "35d235af",
   "metadata": {},
   "outputs": [
    {
     "data": {
      "text/plain": [
       "(11345, 6)"
      ]
     },
     "execution_count": 93,
     "metadata": {},
     "output_type": "execute_result"
    }
   ],
   "source": [
    "exist.shape"
   ]
  },
  {
   "cell_type": "code",
   "execution_count": null,
   "id": "5d99ff5c",
   "metadata": {
    "scrolled": false
   },
   "outputs": [],
   "source": [
    "exist"
   ]
  },
  {
   "cell_type": "code",
   "execution_count": 99,
   "id": "fa716eed",
   "metadata": {},
   "outputs": [],
   "source": [
    "exist.to_csv(os.path.join(FORMATTED_DIR, 'exist.csv'))"
   ]
  },
  {
   "cell_type": "markdown",
   "id": "e54c540e",
   "metadata": {},
   "source": [
    "## Annotating online misogyny"
   ]
  },
  {
   "cell_type": "code",
   "execution_count": 128,
   "id": "89b01544",
   "metadata": {},
   "outputs": [],
   "source": [
    "# NB: encoding problems from authors' side, apostrophes (U+2019) are lost in some texts\n",
    "\n",
    "online_misogyny = pd.read_csv(\n",
    "    os.path.join(SEXISM_DIRNAME, 'Guest_et_al_online_misogyny', 'online-misogyny-eacl2021.csv')\n",
    ")"
   ]
  },
  {
   "cell_type": "code",
   "execution_count": 129,
   "id": "21e55d22",
   "metadata": {},
   "outputs": [],
   "source": [
    "# in Romanian\n",
    "online_misogyny = online_misogyny.loc[online_misogyny.subreddit != 'Romania']\n",
    "\n",
    "online_misogyny.drop([\n",
    "    'link_id', 'parent_id', 'entry_utc', 'subreddit', 'author', 'image', 'label_date',\n",
    "    'week', 'group', 'sheet_order', 'level_3', 'strength', 'highlight', 'split'\n",
    "], axis=1, inplace=True)"
   ]
  },
  {
   "cell_type": "code",
   "execution_count": 130,
   "id": "4eb934cd",
   "metadata": {},
   "outputs": [],
   "source": [
    "def get_inconsistent(online_misogyny, level):\n",
    "    a = online_misogyny.groupby(['entry_id'])\n",
    "    n_unique_per_id = a.apply(lambda x: len(x[f'level_{level}'].unique()))\n",
    "    inconsistent = n_unique_per_id[np.where(n_unique_per_id > 1)[0]].index.tolist()\n",
    "    return inconsistent"
   ]
  },
  {
   "cell_type": "code",
   "execution_count": 131,
   "id": "59353ae3",
   "metadata": {},
   "outputs": [],
   "source": [
    "inconsistent_1 = get_inconsistent(online_misogyny, level=1)\n",
    "inconsistent_2 = get_inconsistent(online_misogyny, level=2)"
   ]
  },
  {
   "cell_type": "code",
   "execution_count": 132,
   "id": "6050b2fc",
   "metadata": {
    "scrolled": false
   },
   "outputs": [],
   "source": [
    "# dropping examples with inconsistent `is_sexism` annotation.\n",
    "online_misogyny.drop(\n",
    "    online_misogyny.loc[online_misogyny.entry_id.isin(inconsistent_1)].index,\n",
    "    axis=0, inplace=True\n",
    ")"
   ]
  },
  {
   "cell_type": "code",
   "execution_count": 133,
   "id": "76f258ac",
   "metadata": {},
   "outputs": [],
   "source": [
    "online_misogyny.loc[online_misogyny.level_1 == 'Misogynistic', 'level_1'] = 1\n",
    "online_misogyny.loc[online_misogyny.level_1 == 'Nonmisogynistic', 'level_1'] = 0\n",
    "online_misogyny.loc[online_misogyny.level_2 == 'None_of_the_categories', 'level_2'] = 0\n",
    "online_misogyny.loc[online_misogyny.level_1 == 0, 'level_2'] = 0  # disregard subclasses of non-misogyny"
   ]
  },
  {
   "cell_type": "code",
   "execution_count": 134,
   "id": "b8dc8de3",
   "metadata": {},
   "outputs": [],
   "source": [
    "# disregarding examples with inconsistent subclassification for task B\n",
    "online_misogyny.loc[online_misogyny.entry_id.isin(inconsistent_2), 'level_2'] = 0"
   ]
  },
  {
   "cell_type": "code",
   "execution_count": 135,
   "id": "2787b760",
   "metadata": {},
   "outputs": [],
   "source": [
    "online_misogyny.drop_duplicates(subset='entry_id', inplace=True)"
   ]
  },
  {
   "cell_type": "code",
   "execution_count": 137,
   "id": "4d780eeb",
   "metadata": {},
   "outputs": [],
   "source": [
    "online_misogyny.dropna(subset=['body'], axis=0, inplace=True)"
   ]
  },
  {
   "cell_type": "code",
   "execution_count": 138,
   "id": "aa6ad3b6",
   "metadata": {},
   "outputs": [
    {
     "data": {
      "text/plain": [
       "(67, 4)"
      ]
     },
     "execution_count": 138,
     "metadata": {},
     "output_type": "execute_result"
    }
   ],
   "source": [
    "# sexist messages without subcategory annotation\n",
    "online_misogyny.loc[(online_misogyny.level_2 == 0) & (online_misogyny.level_1)].shape"
   ]
  },
  {
   "cell_type": "code",
   "execution_count": 139,
   "id": "1b569e20",
   "metadata": {},
   "outputs": [],
   "source": [
    "online_misogyny.rename(\n",
    "    columns={'entry_id': 'orig_id', 'body': 'text', 'level_1': 'is_sexism', 'level_2': 'sexism_category'},\n",
    "    inplace=True\n",
    ")\n",
    "online_misogyny['dataset'] = 'online_misogyny'\n",
    "online_misogyny['language'] = 'en'"
   ]
  },
  {
   "cell_type": "code",
   "execution_count": 140,
   "id": "01ceca84",
   "metadata": {
    "scrolled": true
   },
   "outputs": [
    {
     "data": {
      "text/plain": [
       "(6355, 6)"
      ]
     },
     "execution_count": 140,
     "metadata": {},
     "output_type": "execute_result"
    }
   ],
   "source": [
    "online_misogyny.shape"
   ]
  },
  {
   "cell_type": "code",
   "execution_count": null,
   "id": "994b54d2",
   "metadata": {
    "scrolled": false
   },
   "outputs": [],
   "source": [
    "online_misogyny"
   ]
  },
  {
   "cell_type": "code",
   "execution_count": 141,
   "id": "5ac05775",
   "metadata": {},
   "outputs": [],
   "source": [
    "online_misogyny.to_csv(os.path.join(FORMATTED_DIR, 'online_misogyny.csv'))"
   ]
  },
  {
   "cell_type": "markdown",
   "id": "8c851ce7",
   "metadata": {},
   "source": [
    "## EDOS"
   ]
  },
  {
   "cell_type": "code",
   "execution_count": 142,
   "id": "b6ef9513",
   "metadata": {},
   "outputs": [],
   "source": [
    "EDOS_DIR = os.path.join('..', 'edos_data', 'processed')"
   ]
  },
  {
   "cell_type": "code",
   "execution_count": 143,
   "id": "c1837449",
   "metadata": {},
   "outputs": [],
   "source": [
    "def process_edos_part(part_name):\n",
    "    edos_part = pd.read_csv(os.path.join(EDOS_DIR, f'edos_2023_{part_name}.csv'))\n",
    "\n",
    "    edos_part.rename(columns={\n",
    "        'rewire_id': 'orig_id', \n",
    "        'label_sexist': 'is_sexism',\n",
    "        'label_category': 'sexism_category',\n",
    "        'label_vector': 'sexism_subcategory'\n",
    "    }, inplace=True)\n",
    "    \n",
    "    edos_part.loc[edos_part.is_sexism == 'not sexist', 'is_sexism'] = 0\n",
    "    edos_part.loc[edos_part.is_sexism == 'sexist', 'is_sexism'] = 1\n",
    "    edos_part.loc[edos_part.sexism_category == 'none', 'sexism_category'] = 0\n",
    "    edos_part.loc[edos_part.sexism_subcategory == 'none', 'sexism_subcategory'] = 0\n",
    "    \n",
    "    edos_part['dataset'] = 'edos'\n",
    "    edos_part['language'] = 'en'\n",
    "    \n",
    "    print(edos_part.shape)\n",
    "\n",
    "    edos_part.to_csv(os.path.join(FORMATTED_DIR, f'edos_{part_name}.csv'))\n",
    "    return edos_part"
   ]
  },
  {
   "cell_type": "code",
   "execution_count": 144,
   "id": "a8b4b439",
   "metadata": {},
   "outputs": [
    {
     "name": "stdout",
     "output_type": "stream",
     "text": [
      "(11200, 7)\n",
      "(2800, 7)\n"
     ]
    }
   ],
   "source": [
    "edos_train = process_edos_part('train')\n",
    "edos_val = process_edos_part('val')"
   ]
  },
  {
   "cell_type": "code",
   "execution_count": null,
   "id": "94cb2aea",
   "metadata": {},
   "outputs": [],
   "source": [
    "edos_train"
   ]
  },
  {
   "cell_type": "markdown",
   "id": "98a74cc4",
   "metadata": {},
   "source": [
    "# Task datasets"
   ]
  },
  {
   "cell_type": "code",
   "execution_count": 75,
   "id": "4cd7e6d4",
   "metadata": {},
   "outputs": [],
   "source": [
    "DATASETS_BY_TASK = {\n",
    "    'binary_hate': [hateval, haspeede, measuring],\n",
    "    'binary_offense': [offenseval],\n",
    "    'binary_toxicity': [unintended_df],\n",
    "    'target': [offenseval, hateval, evalita2018.loc[evalita2018.language == 'it']],\n",
    "                                    # en should be in HatEval\n",
    "    'target_groups': [measuring, unintended_df],\n",
    "    'binary_sexism': [evalita2018, evalita2020, call_me_sexist_data, exist, online_misogyny],\n",
    "    'sexism_categories': {\n",
    "        'evalita2018': evalita2018, \n",
    "        'call_me_sexist': call_me_sexist_data, \n",
    "        'exist': exist, \n",
    "        'online_misogyny': online_misogyny,\n",
    "    }\n",
    "}"
   ]
  },
  {
   "cell_type": "code",
   "execution_count": 49,
   "id": "8d3b2f57",
   "metadata": {},
   "outputs": [],
   "source": [
    "GENERAL_REL_COLUMNS = ['dataset', 'language', 'orig_id', 'text']"
   ]
  },
  {
   "cell_type": "code",
   "execution_count": 50,
   "id": "f7659855",
   "metadata": {},
   "outputs": [],
   "source": [
    "def compile_df(task, rel_target_columns, max_n=None):\n",
    "    rel_columns = GENERAL_REL_COLUMNS + rel_target_columns\n",
    "    dfs = []\n",
    "\n",
    "    for df in DATASETS_BY_TASK[task]:\n",
    "        if max_n is not None and df.shape[0] > max_n:\n",
    "            df_sample = df.sample(n=max_n, random_state=42)\n",
    "        else:\n",
    "            df_sample = df\n",
    "\n",
    "        dfs.append(df_sample[rel_columns])\n",
    "\n",
    "    df = pd.concat(dfs, ignore_index=True)\n",
    "    return df"
   ]
  },
  {
   "cell_type": "code",
   "execution_count": 76,
   "id": "93f5d1dd",
   "metadata": {},
   "outputs": [],
   "source": [
    "HS_TASK_DIRNAME = os.path.join('..', 'multitask_data', 'processed', 'hate_speech')\n",
    "SEXISM_TASK_DIRNAME = os.path.join('..', 'multitask_data', 'processed', 'misogyny')"
   ]
  },
  {
   "cell_type": "markdown",
   "id": "52daa7ab",
   "metadata": {},
   "source": [
    "## Binary hate"
   ]
  },
  {
   "cell_type": "code",
   "execution_count": 159,
   "id": "845dddaf",
   "metadata": {},
   "outputs": [],
   "source": [
    "rel_target_columns = ['is_hate']\n",
    "binary_hate = compile_df('binary_hate', rel_target_columns, max_n=20000)"
   ]
  },
  {
   "cell_type": "code",
   "execution_count": 160,
   "id": "8a064650",
   "metadata": {},
   "outputs": [
    {
     "data": {
      "text/plain": [
       "(52200, 5)"
      ]
     },
     "execution_count": 160,
     "metadata": {},
     "output_type": "execute_result"
    }
   ],
   "source": [
    "binary_hate.shape"
   ]
  },
  {
   "cell_type": "code",
   "execution_count": null,
   "id": "67a46cb8",
   "metadata": {
    "scrolled": false
   },
   "outputs": [],
   "source": [
    "binary_hate"
   ]
  },
  {
   "cell_type": "code",
   "execution_count": 161,
   "id": "65b07f10",
   "metadata": {},
   "outputs": [],
   "source": [
    "binary_hate = binary_hate.sample(frac=1, random_state=42)\n",
    "binary_hate.reset_index(inplace=True, drop=True)"
   ]
  },
  {
   "cell_type": "code",
   "execution_count": 162,
   "id": "65d078be",
   "metadata": {},
   "outputs": [
    {
     "data": {
      "text/plain": [
       "0    33080\n",
       "1    19120\n",
       "Name: is_hate, dtype: int64"
      ]
     },
     "execution_count": 162,
     "metadata": {},
     "output_type": "execute_result"
    }
   ],
   "source": [
    "binary_hate.is_hate.value_counts()"
   ]
  },
  {
   "cell_type": "code",
   "execution_count": 163,
   "id": "26c81d1d",
   "metadata": {
    "scrolled": true
   },
   "outputs": [
    {
     "data": {
      "text/plain": [
       "measuring       20000\n",
       "hateval         19600\n",
       "haspeede2020     8600\n",
       "haspeede2018     4000\n",
       "Name: dataset, dtype: int64"
      ]
     },
     "execution_count": 163,
     "metadata": {},
     "output_type": "execute_result"
    }
   ],
   "source": [
    "binary_hate.dataset.value_counts()"
   ]
  },
  {
   "cell_type": "code",
   "execution_count": 164,
   "id": "0afcd76d",
   "metadata": {},
   "outputs": [
    {
     "data": {
      "text/plain": [
       "en    33000\n",
       "it    12600\n",
       "es     6600\n",
       "Name: language, dtype: int64"
      ]
     },
     "execution_count": 164,
     "metadata": {},
     "output_type": "execute_result"
    }
   ],
   "source": [
    "binary_hate.language.value_counts()"
   ]
  },
  {
   "cell_type": "code",
   "execution_count": 165,
   "id": "6198a094",
   "metadata": {},
   "outputs": [],
   "source": [
    "bh_train, bh_val = train_test_split(binary_hate, test_size=0.2, random_state=42, shuffle=False)\n",
    "bh_train.to_csv(os.path.join(HS_TASK_DIRNAME, 'hate_binary_train.csv'))\n",
    "bh_val.to_csv(os.path.join(HS_TASK_DIRNAME, 'hate_binary_val.csv'))"
   ]
  },
  {
   "cell_type": "markdown",
   "id": "99d050e0",
   "metadata": {},
   "source": [
    "## Binary offense"
   ]
  },
  {
   "cell_type": "code",
   "execution_count": 52,
   "id": "a318238a",
   "metadata": {},
   "outputs": [],
   "source": [
    "rel_target_columns = ['is_offense']\n",
    "binary_offense = compile_df('binary_offense', rel_target_columns)"
   ]
  },
  {
   "cell_type": "code",
   "execution_count": 53,
   "id": "aa079bbd",
   "metadata": {
    "scrolled": true
   },
   "outputs": [
    {
     "data": {
      "text/plain": [
       "(14100, 5)"
      ]
     },
     "execution_count": 53,
     "metadata": {},
     "output_type": "execute_result"
    }
   ],
   "source": [
    "binary_offense.shape"
   ]
  },
  {
   "cell_type": "code",
   "execution_count": null,
   "id": "580dc698",
   "metadata": {},
   "outputs": [],
   "source": [
    "binary_offense"
   ]
  },
  {
   "cell_type": "code",
   "execution_count": 55,
   "id": "dd91fb9d",
   "metadata": {},
   "outputs": [],
   "source": [
    "binary_offense = binary_offense.sample(frac=1, random_state=42)\n",
    "binary_offense.reset_index(inplace=True, drop=True)"
   ]
  },
  {
   "cell_type": "code",
   "execution_count": 56,
   "id": "6d24bf21",
   "metadata": {},
   "outputs": [
    {
     "data": {
      "text/plain": [
       "0    9460\n",
       "1    4640\n",
       "Name: is_offense, dtype: int64"
      ]
     },
     "execution_count": 56,
     "metadata": {},
     "output_type": "execute_result"
    }
   ],
   "source": [
    "binary_offense.is_offense.value_counts()"
   ]
  },
  {
   "cell_type": "code",
   "execution_count": 57,
   "id": "45f8a5ef",
   "metadata": {},
   "outputs": [
    {
     "data": {
      "text/plain": [
       "olid    14100\n",
       "Name: dataset, dtype: int64"
      ]
     },
     "execution_count": 57,
     "metadata": {},
     "output_type": "execute_result"
    }
   ],
   "source": [
    "binary_offense.dataset.value_counts()"
   ]
  },
  {
   "cell_type": "code",
   "execution_count": 58,
   "id": "e4e4ffd8",
   "metadata": {},
   "outputs": [
    {
     "data": {
      "text/plain": [
       "en    14100\n",
       "Name: language, dtype: int64"
      ]
     },
     "execution_count": 58,
     "metadata": {},
     "output_type": "execute_result"
    }
   ],
   "source": [
    "binary_offense.language.value_counts()"
   ]
  },
  {
   "cell_type": "code",
   "execution_count": 59,
   "id": "650285c4",
   "metadata": {},
   "outputs": [],
   "source": [
    "bo_train, bo_val = train_test_split(binary_offense, test_size=0.2, random_state=42, shuffle=False)\n",
    "bo_train.to_csv(os.path.join(HS_TASK_DIRNAME, 'offense_binary_train.csv'))\n",
    "bo_val.to_csv(os.path.join(HS_TASK_DIRNAME, 'offense_binary_val.csv'))"
   ]
  },
  {
   "cell_type": "markdown",
   "id": "be824456",
   "metadata": {},
   "source": [
    "## Binary toxicity"
   ]
  },
  {
   "cell_type": "code",
   "execution_count": 188,
   "id": "546877b4",
   "metadata": {},
   "outputs": [],
   "source": [
    "rel_target_columns = ['is_toxicity']\n",
    "binary_toxicity = compile_df('binary_toxicity', rel_target_columns, max_n=40000)"
   ]
  },
  {
   "cell_type": "code",
   "execution_count": 189,
   "id": "8601da5d",
   "metadata": {},
   "outputs": [
    {
     "data": {
      "text/plain": [
       "(40000, 5)"
      ]
     },
     "execution_count": 189,
     "metadata": {},
     "output_type": "execute_result"
    }
   ],
   "source": [
    "binary_toxicity.shape"
   ]
  },
  {
   "cell_type": "code",
   "execution_count": 191,
   "id": "e36bd1f4",
   "metadata": {},
   "outputs": [],
   "source": [
    "binary_toxicity"
   ]
  },
  {
   "cell_type": "code",
   "execution_count": 192,
   "id": "c7343159",
   "metadata": {},
   "outputs": [],
   "source": [
    "binary_toxicity = binary_toxicity.sample(frac=1, random_state=42)\n",
    "binary_toxicity.reset_index(inplace=True, drop=True)"
   ]
  },
  {
   "cell_type": "code",
   "execution_count": 194,
   "id": "b9610f4b",
   "metadata": {},
   "outputs": [
    {
     "data": {
      "text/plain": [
       "0.0    36853\n",
       "1.0     3147\n",
       "Name: is_toxicity, dtype: int64"
      ]
     },
     "execution_count": 194,
     "metadata": {},
     "output_type": "execute_result"
    }
   ],
   "source": [
    "binary_toxicity.is_toxicity.value_counts()"
   ]
  },
  {
   "cell_type": "code",
   "execution_count": 195,
   "id": "3e657421",
   "metadata": {},
   "outputs": [
    {
     "data": {
      "text/plain": [
       "unintended    40000\n",
       "Name: dataset, dtype: int64"
      ]
     },
     "execution_count": 195,
     "metadata": {},
     "output_type": "execute_result"
    }
   ],
   "source": [
    "binary_toxicity.dataset.value_counts()"
   ]
  },
  {
   "cell_type": "code",
   "execution_count": 196,
   "id": "7a4d4b61",
   "metadata": {},
   "outputs": [
    {
     "data": {
      "text/plain": [
       "en    40000\n",
       "Name: language, dtype: int64"
      ]
     },
     "execution_count": 196,
     "metadata": {},
     "output_type": "execute_result"
    }
   ],
   "source": [
    "binary_toxicity.language.value_counts()"
   ]
  },
  {
   "cell_type": "code",
   "execution_count": 198,
   "id": "19c9ddd5",
   "metadata": {},
   "outputs": [],
   "source": [
    "bt_train, bt_val = train_test_split(binary_toxicity, test_size=0.2, random_state=42, shuffle=False)\n",
    "bt_train.to_csv(os.path.join(HS_TASK_DIRNAME, 'toxicity_binary_train.csv'))\n",
    "bt_val.to_csv(os.path.join(HS_TASK_DIRNAME, 'toxicity_binary_val.csv'))"
   ]
  },
  {
   "cell_type": "markdown",
   "id": "4ab5df72",
   "metadata": {},
   "source": [
    "## Target"
   ]
  },
  {
   "cell_type": "code",
   "execution_count": 77,
   "id": "d513fc83",
   "metadata": {},
   "outputs": [],
   "source": [
    "rel_target_columns = ['target']\n",
    "target_df = compile_df('target', rel_target_columns)"
   ]
  },
  {
   "cell_type": "code",
   "execution_count": 78,
   "id": "6920f2a9",
   "metadata": {},
   "outputs": [],
   "source": [
    "# rm non-hateful messages, for which target is not annotated\n",
    "target_df.dropna(axis=0, inplace=True)"
   ]
  },
  {
   "cell_type": "code",
   "execution_count": 79,
   "id": "64a5524a",
   "metadata": {},
   "outputs": [
    {
     "data": {
      "text/plain": [
       "(15176, 5)"
      ]
     },
     "execution_count": 79,
     "metadata": {},
     "output_type": "execute_result"
    }
   ],
   "source": [
    "target_df.shape"
   ]
  },
  {
   "cell_type": "code",
   "execution_count": null,
   "id": "38de95f5",
   "metadata": {},
   "outputs": [],
   "source": [
    "target_df"
   ]
  },
  {
   "cell_type": "code",
   "execution_count": 80,
   "id": "9063382f",
   "metadata": {},
   "outputs": [],
   "source": [
    "target_df = target_df.sample(frac=1, random_state=42)\n",
    "target_df.reset_index(inplace=True, drop=True)"
   ]
  },
  {
   "cell_type": "code",
   "execution_count": 81,
   "id": "3c8bc2c0",
   "metadata": {},
   "outputs": [
    {
     "data": {
      "text/plain": [
       "IND    8449\n",
       "GRP    5746\n",
       "UNT     551\n",
       "OTH     430\n",
       "Name: target, dtype: int64"
      ]
     },
     "execution_count": 81,
     "metadata": {},
     "output_type": "execute_result"
    }
   ],
   "source": [
    "target_df.target.value_counts()"
   ]
  },
  {
   "cell_type": "code",
   "execution_count": 82,
   "id": "fba50a86",
   "metadata": {},
   "outputs": [
    {
     "data": {
      "text/plain": [
       "hateval        8209\n",
       "olid           4640\n",
       "evalita2018    2327\n",
       "Name: dataset, dtype: int64"
      ]
     },
     "execution_count": 82,
     "metadata": {},
     "output_type": "execute_result"
    }
   ],
   "source": [
    "target_df.dataset.value_counts()"
   ]
  },
  {
   "cell_type": "code",
   "execution_count": 83,
   "id": "943eaa17",
   "metadata": {},
   "outputs": [
    {
     "data": {
      "text/plain": [
       "en    10110\n",
       "es     2739\n",
       "it     2327\n",
       "Name: language, dtype: int64"
      ]
     },
     "execution_count": 83,
     "metadata": {},
     "output_type": "execute_result"
    }
   ],
   "source": [
    "target_df.language.value_counts()"
   ]
  },
  {
   "cell_type": "code",
   "execution_count": 84,
   "id": "d151bf9f",
   "metadata": {},
   "outputs": [],
   "source": [
    "ht_train, ht_val = train_test_split(target_df, test_size=0.2, random_state=42, shuffle=False)\n",
    "ht_train.to_csv(os.path.join(HS_TASK_DIRNAME, 'hate_target_train.csv'))\n",
    "ht_val.to_csv(os.path.join(HS_TASK_DIRNAME, 'hate_target_val.csv'))"
   ]
  },
  {
   "cell_type": "markdown",
   "id": "1d5d9cd0",
   "metadata": {},
   "source": [
    "## Target groups"
   ]
  },
  {
   "cell_type": "code",
   "execution_count": 115,
   "id": "35ab5f74",
   "metadata": {},
   "outputs": [],
   "source": [
    "rel_target_columns = ['gender'] #, 'sexuality', 'disability', 'religion', 'race']\n",
    "target_groups = compile_df('target_groups', rel_target_columns, max_n=40000)"
   ]
  },
  {
   "cell_type": "code",
   "execution_count": 116,
   "id": "8f7f8288",
   "metadata": {},
   "outputs": [
    {
     "data": {
      "text/plain": [
       "(79565, 5)"
      ]
     },
     "execution_count": 116,
     "metadata": {},
     "output_type": "execute_result"
    }
   ],
   "source": [
    "target_groups.shape"
   ]
  },
  {
   "cell_type": "code",
   "execution_count": null,
   "id": "78926dc2",
   "metadata": {},
   "outputs": [],
   "source": [
    "target_groups"
   ]
  },
  {
   "cell_type": "code",
   "execution_count": 118,
   "id": "d0e74131",
   "metadata": {},
   "outputs": [],
   "source": [
    "target_groups = target_groups.sample(frac=1, random_state=42)\n",
    "target_groups.reset_index(inplace=True, drop=True)"
   ]
  },
  {
   "cell_type": "code",
   "execution_count": 119,
   "id": "cb851941",
   "metadata": {},
   "outputs": [
    {
     "data": {
      "text/plain": [
       "(50707,)"
      ]
     },
     "execution_count": 119,
     "metadata": {},
     "output_type": "execute_result"
    }
   ],
   "source": [
    "# n messages without any annotated target\n",
    "any_target = np.sum(target_groups[rel_target_columns], axis=1)\n",
    "np.where(any_target == 0)[0].shape"
   ]
  },
  {
   "cell_type": "code",
   "execution_count": 120,
   "id": "11654d44",
   "metadata": {},
   "outputs": [
    {
     "data": {
      "text/plain": [
       "unintended    40000\n",
       "measuring     39565\n",
       "Name: dataset, dtype: int64"
      ]
     },
     "execution_count": 120,
     "metadata": {},
     "output_type": "execute_result"
    }
   ],
   "source": [
    "target_groups.dataset.value_counts()"
   ]
  },
  {
   "cell_type": "code",
   "execution_count": 122,
   "id": "ef057eca",
   "metadata": {
    "scrolled": true
   },
   "outputs": [
    {
     "data": {
      "text/plain": [
       "en    79565\n",
       "Name: language, dtype: int64"
      ]
     },
     "execution_count": 122,
     "metadata": {},
     "output_type": "execute_result"
    }
   ],
   "source": [
    "target_groups.language.value_counts()"
   ]
  },
  {
   "cell_type": "code",
   "execution_count": 123,
   "id": "cd2a43e0",
   "metadata": {},
   "outputs": [],
   "source": [
    "htg_train, htg_val = train_test_split(target_groups, test_size=0.2, random_state=42, shuffle=False)\n",
    "htg_train.to_csv(os.path.join(HS_TASK_DIRNAME, 'hate_target_groups_train.csv'))\n",
    "htg_val.to_csv(os.path.join(HS_TASK_DIRNAME, 'hate_target_groups_val.csv'))"
   ]
  },
  {
   "cell_type": "markdown",
   "id": "8992e5d0",
   "metadata": {},
   "source": [
    "## Binary sexism"
   ]
  },
  {
   "cell_type": "code",
   "execution_count": 150,
   "id": "7d75696d",
   "metadata": {},
   "outputs": [],
   "source": [
    "rel_target_columns = ['is_sexism']\n",
    "binary_sexism = compile_df('binary_sexism', rel_target_columns)"
   ]
  },
  {
   "cell_type": "code",
   "execution_count": 152,
   "id": "ba310863",
   "metadata": {},
   "outputs": [
    {
     "data": {
      "text/plain": [
       "(40039, 5)"
      ]
     },
     "execution_count": 152,
     "metadata": {},
     "output_type": "execute_result"
    }
   ],
   "source": [
    "binary_sexism.shape"
   ]
  },
  {
   "cell_type": "code",
   "execution_count": null,
   "id": "3ce1ba5f",
   "metadata": {
    "scrolled": true
   },
   "outputs": [],
   "source": [
    "binary_sexism"
   ]
  },
  {
   "cell_type": "code",
   "execution_count": 153,
   "id": "632959ce",
   "metadata": {},
   "outputs": [],
   "source": [
    "binary_sexism = binary_sexism.sample(frac=1, random_state=42)\n",
    "binary_sexism.reset_index(inplace=True, drop=True)"
   ]
  },
  {
   "cell_type": "code",
   "execution_count": 154,
   "id": "8dfef232",
   "metadata": {},
   "outputs": [
    {
     "data": {
      "text/plain": [
       "0    27020\n",
       "1    13019\n",
       "Name: is_sexism, dtype: int64"
      ]
     },
     "execution_count": 154,
     "metadata": {},
     "output_type": "execute_result"
    }
   ],
   "source": [
    "binary_sexism.is_sexism.value_counts()"
   ]
  },
  {
   "cell_type": "code",
   "execution_count": 155,
   "id": "6bbaad79",
   "metadata": {},
   "outputs": [
    {
     "data": {
      "text/plain": [
       "exist              11345\n",
       "call_me_sexist     11339\n",
       "evalita2018        10000\n",
       "online_misogyny     6355\n",
       "evalita2020         1000\n",
       "Name: dataset, dtype: int64"
      ]
     },
     "execution_count": 155,
     "metadata": {},
     "output_type": "execute_result"
    }
   ],
   "source": [
    "binary_sexism.dataset.value_counts()"
   ]
  },
  {
   "cell_type": "code",
   "execution_count": 156,
   "id": "6528e5af",
   "metadata": {},
   "outputs": [
    {
     "data": {
      "text/plain": [
       "en    28338\n",
       "it     6000\n",
       "es     5701\n",
       "Name: language, dtype: int64"
      ]
     },
     "execution_count": 156,
     "metadata": {},
     "output_type": "execute_result"
    }
   ],
   "source": [
    "binary_sexism.language.value_counts()"
   ]
  },
  {
   "cell_type": "code",
   "execution_count": 157,
   "id": "d0339536",
   "metadata": {},
   "outputs": [],
   "source": [
    "bs_train, bs_val = train_test_split(binary_sexism, test_size=0.2, random_state=42, shuffle=False)\n",
    "bs_train.to_csv(os.path.join(HS_TASK_DIRNAME, 'sexism_binary_train.csv'))\n",
    "bs_val.to_csv(os.path.join(HS_TASK_DIRNAME, 'sexism_binary_val.csv'))"
   ]
  },
  {
   "cell_type": "markdown",
   "id": "62139b9a",
   "metadata": {},
   "source": [
    "### EDOS"
   ]
  },
  {
   "cell_type": "code",
   "execution_count": 133,
   "id": "ab27f29e",
   "metadata": {},
   "outputs": [
    {
     "name": "stdout",
     "output_type": "stream",
     "text": [
      "14000\n"
     ]
    },
    {
     "data": {
      "text/plain": [
       "0    10602\n",
       "1     3398\n",
       "Name: is_sexism, dtype: int64"
      ]
     },
     "execution_count": 133,
     "metadata": {},
     "output_type": "execute_result"
    }
   ],
   "source": [
    "edos_train_binary = edos_train[GENERAL_REL_COLUMNS + ['is_sexism']]\n",
    "edos_train_binary.to_csv(os.path.join(HS_TASK_DIRNAME, 'edos_binary_train.csv'))\n",
    "\n",
    "edos_val_binary = edos_val[GENERAL_REL_COLUMNS + ['is_sexism']]\n",
    "edos_val_binary.to_csv(os.path.join(HS_TASK_DIRNAME, 'edos_binary_val.csv'))\n",
    "\n",
    "print(edos_train_binary.shape[0] + edos_val_binary.shape[0])\n",
    "edos_train_binary.is_sexism.value_counts() + edos_val_binary.is_sexism.value_counts()"
   ]
  },
  {
   "cell_type": "markdown",
   "id": "f3fa07cb",
   "metadata": {},
   "source": [
    "## Sexism subclassification"
   ]
  },
  {
   "cell_type": "code",
   "execution_count": 134,
   "id": "85296c40",
   "metadata": {},
   "outputs": [],
   "source": [
    "def process_sexism_subclassification(label, dataset, task='B', to_split=True, to_shuffle=True):\n",
    "    sexism_category = 'sexism_category'\n",
    "    rel_columns = GENERAL_REL_COLUMNS + [sexism_category]\n",
    "    categories = dataset.loc[dataset[sexism_category] != 0, rel_columns]\n",
    "    \n",
    "    if to_shuffle:\n",
    "        categories = categories.sample(frac=1, random_state=42)\n",
    "        categories.reset_index(inplace=True, drop=True)\n",
    "    \n",
    "    if to_split:\n",
    "        train, val = train_test_split(categories, test_size=0.2, random_state=42, shuffle=False)\n",
    "        train.to_csv(os.path.join(SEXISM_TASK_DIRNAME, f'task{task}_{label}_train.csv'))\n",
    "        val.to_csv(os.path.join(SEXISM_TASK_DIRNAME, f'task{task}_{label}_val.csv'))\n",
    "\n",
    "    else:\n",
    "        categories.to_csv(os.path.join(SEXISM_TASK_DIRNAME, f'task{task}_{label}.csv'))\n",
    "\n",
    "    return {\n",
    "        'shape': categories.shape,\n",
    "        'category_counts': categories.sexism_category.value_counts(),\n",
    "        'language_counts': categories.language.value_counts()\n",
    "    }"
   ]
  },
  {
   "cell_type": "code",
   "execution_count": 135,
   "id": "392805c4",
   "metadata": {
    "scrolled": false
   },
   "outputs": [
    {
     "name": "stdout",
     "output_type": "stream",
     "text": [
      "evalita2018\n",
      "(4582, 5) \n",
      "\n",
      "discredit            1893\n",
      "stereotype           1162\n",
      "sexual_harassment     994\n",
      "dominance             404\n",
      "derailing             129\n",
      "Name: sexism_category, dtype: int64 \n",
      "\n",
      "it    2337\n",
      "en    2245\n",
      "Name: language, dtype: int64\n",
      "==================== \n",
      "\n",
      "call_me_sexist\n",
      "(1241, 5) \n",
      "\n",
      "stereotypes and comparisons                  644\n",
      "behavioral expectations                      441\n",
      "endorsement of inequality                    100\n",
      "denying inequality and rejecting feminism     56\n",
      "Name: sexism_category, dtype: int64 \n",
      "\n",
      "en    1241\n",
      "Name: language, dtype: int64\n",
      "==================== \n",
      "\n",
      "exist\n",
      "(5658, 5) \n",
      "\n",
      "ideological-inequality          1487\n",
      "stereotyping-dominance          1273\n",
      "misogyny-non-sexual-violence    1157\n",
      "sexual-violence                  917\n",
      "objectification                  824\n",
      "Name: sexism_category, dtype: int64 \n",
      "\n",
      "es    2864\n",
      "en    2794\n",
      "Name: language, dtype: int64\n",
      "==================== \n",
      "\n",
      "online_misogyny\n",
      "(448, 5) \n",
      "\n",
      "Derogation                      228\n",
      "Misogynistic_pejorative         145\n",
      "Treatment                        60\n",
      "Misogynistic_personal_attack     15\n",
      "Name: sexism_category, dtype: int64 \n",
      "\n",
      "en    448\n",
      "Name: language, dtype: int64\n",
      "==================== \n",
      "\n"
     ]
    }
   ],
   "source": [
    "for label, dataset in DATASETS_BY_TASK['sexism_categories'].items():\n",
    "    stats = process_sexism_subclassification(label, dataset)\n",
    "\n",
    "    print(label)\n",
    "    print(stats['shape'], '\\n')\n",
    "    print(stats['category_counts'], '\\n')\n",
    "    print(stats['language_counts'])\n",
    "    print('=' * 20, '\\n')"
   ]
  },
  {
   "cell_type": "markdown",
   "id": "a391050a",
   "metadata": {},
   "source": [
    "### EDOS"
   ]
  },
  {
   "cell_type": "code",
   "execution_count": 136,
   "id": "3964a5dd",
   "metadata": {},
   "outputs": [
    {
     "name": "stdout",
     "output_type": "stream",
     "text": [
      "3398\n"
     ]
    },
    {
     "data": {
      "text/plain": [
       "2. derogation                               1590\n",
       "3. animosity                                1165\n",
       "4. prejudiced discussions                    333\n",
       "1. threats, plans to harm and incitement     310\n",
       "Name: sexism_category, dtype: int64"
      ]
     },
     "execution_count": 136,
     "metadata": {},
     "output_type": "execute_result"
    }
   ],
   "source": [
    "# EDOS for task B\n",
    "\n",
    "train_stats = process_sexism_subclassification('edos_train', edos_train, to_split=False, to_shuffle=False)\n",
    "val_stats = process_sexism_subclassification('edos_val', edos_val, to_split=False, to_shuffle=False)\n",
    "\n",
    "print(train_stats['shape'][0] + val_stats['shape'][0])\n",
    "train_stats['category_counts'] + val_stats['category_counts']"
   ]
  },
  {
   "cell_type": "code",
   "execution_count": 137,
   "id": "db9ac65c",
   "metadata": {},
   "outputs": [
    {
     "name": "stdout",
     "output_type": "stream",
     "text": [
      "3398\n"
     ]
    },
    {
     "data": {
      "text/plain": [
       "1.1 threats of harm                                                 56\n",
       "1.2 incitement and encouragement of harm                           254\n",
       "2.1 descriptive attacks                                            717\n",
       "2.2 aggressive and emotive attacks                                 673\n",
       "2.3 dehumanising attacks & overt sexual objectification            200\n",
       "3.1 casual use of gendered slurs, profanities, and insults         637\n",
       "3.2 immutable gender differences and gender stereotypes            417\n",
       "3.3 backhanded gendered compliments                                 64\n",
       "3.4 condescending explanations or unwelcome advice                  47\n",
       "4.1 supporting mistreatment of individual women                     75\n",
       "4.2 supporting systemic discrimination against women as a group    258\n",
       "Name: sexism_category, dtype: int64"
      ]
     },
     "execution_count": 137,
     "metadata": {},
     "output_type": "execute_result"
    }
   ],
   "source": [
    "# EDOS for task C\n",
    "\n",
    "to_rename = {'sexism_subcategory': 'sexism_category'}\n",
    "edos_train_for_c = edos_train.drop(['sexism_category'], axis=1).rename(columns=to_rename)\n",
    "edos_val_for_c = edos_val.drop(['sexism_category'], axis=1).rename(columns=to_rename)\n",
    "\n",
    "train_stats = process_sexism_subclassification(\n",
    "    'edos_train', edos_train_for_c, task='C', to_split=False, to_shuffle=False\n",
    ")\n",
    "val_stats = process_sexism_subclassification(\n",
    "    'edos_val', edos_val_for_c, task='C', to_split=False, to_shuffle=False\n",
    ")\n",
    "\n",
    "print(train_stats['shape'][0] + val_stats['shape'][0])\n",
    "train_stats['category_counts'] + val_stats['category_counts']"
   ]
  },
  {
   "cell_type": "code",
   "execution_count": null,
   "id": "1d82504c",
   "metadata": {},
   "outputs": [],
   "source": []
  }
 ],
 "metadata": {
  "kernelspec": {
   "display_name": "Python 3 (ipykernel)",
   "language": "python",
   "name": "python3"
  },
  "language_info": {
   "codemirror_mode": {
    "name": "ipython",
    "version": 3
   },
   "file_extension": ".py",
   "mimetype": "text/x-python",
   "name": "python",
   "nbconvert_exporter": "python",
   "pygments_lexer": "ipython3",
   "version": "3.7.0"
  }
 },
 "nbformat": 4,
 "nbformat_minor": 5
}
